{
  "nbformat": 4,
  "nbformat_minor": 0,
  "metadata": {
    "colab": {
      "provenance": [],
      "collapsed_sections": [],
      "toc_visible": true
    },
    "kernelspec": {
      "name": "ir",
      "display_name": "R"
    },
    "accelerator": "GPU"
  },
  "cells": [
    {
      "cell_type": "markdown",
      "metadata": {
        "id": "NizZ7atiCceE"
      },
      "source": [
        "# A simple CNN for the edge lover task\n",
        "\n",
        "**Goal:** In this notebook you train a very simple CNN with only 1 kernel to discriminate images containing vertical from those containing horizontal stripes. To check what pattern is recognized by the learned kernel you will visualize the weights of the kernel as an image. You will see that the CNN leans a useful kernel (either a vertical or horiziontal bar).You can experiment with the code to check the influence of the kernel size, the activation function and the pooling method on the result.  \n",
        "\n",
        "**Usage:** The idea of the notebook is that you try to understand the provided code by running it, checking the output and playing with it by slightly changing the code and rerunning it.  \n",
        "\n",
        "**Dataset:** You work with an artficially generatet dataset of greyscale images (50x50 pixel) with 10 vertical or horizontal bars. We want to classify them into whether or not an art lover will like them(0 or 1).  \n",
        "\n",
        "**Content:**\n",
        "* definig and generating the dataset X_train and X_val\n",
        "* visualize samples of the generated images\n",
        "* use keras to train a CNN with only one kernel (5x5 pixel)\n",
        "* visualize the weights of the leaned kernel and interpret if it is useful\n",
        "* repeat the last two steps to check if the learned kernel is always the same\n",
        "\n",
        "Original python version \n",
        "| [open in colab](https://colab.research.google.com/github/tensorchiefs/dl_book/blob/master/chapter_02/nb_ch02_03.ipynb)\n"
      ]
    },
    {
      "cell_type": "markdown",
      "metadata": {
        "id": "M1wzgBlEFPrq"
      },
      "source": [
        "# Installing TensorFlow and Keras\n",
        "\n",
        "The deep learning packages, TensorFlow and Keras are not installed by default, but can be installed as follows:"
      ]
    },
    {
      "cell_type": "code",
      "metadata": {
        "id": "goTZsQAy_VbC",
        "colab": {
          "base_uri": "https://localhost:8080/",
          "height": 644
        },
        "outputId": "a7c22786-00d9-4316-dc6f-19edf6b52c18"
      },
      "source": [
        "#Installing TF and Keras takes approx 2 minutes\n",
        "ptm <- proc.time()\n",
        "install.packages(\"tensorflow\")\n",
        "install.packages(\"keras\")\n",
        "install.packages(\"RCurl\")\n",
        "install.packages(\"kableExtra\")\n",
        "install.packages(\"reshape2\")\n",
        "proc.time() - ptm\n",
        "#devtools::install_github(\"rstudio/keras\") works ok but no tfp\n",
        "library(keras)\n",
        "library(tensorflow)\n",
        "tf$version$VERSION #2.3.0"
      ],
      "execution_count": 1,
      "outputs": [
        {
          "output_type": "stream",
          "name": "stderr",
          "text": [
            "Installing package into ‘/usr/local/lib/R/site-library’\n",
            "(as ‘lib’ is unspecified)\n",
            "\n",
            "also installing the dependencies ‘Rcpp’, ‘RcppTOML’, ‘here’, ‘png’, ‘config’, ‘reticulate’, ‘tfruns’, ‘tfautograph’\n",
            "\n",
            "\n",
            "Installing package into ‘/usr/local/lib/R/site-library’\n",
            "(as ‘lib’ is unspecified)\n",
            "\n",
            "also installing the dependency ‘zeallot’\n",
            "\n",
            "\n",
            "Installing package into ‘/usr/local/lib/R/site-library’\n",
            "(as ‘lib’ is unspecified)\n",
            "\n",
            "also installing the dependency ‘bitops’\n",
            "\n",
            "\n",
            "Installing package into ‘/usr/local/lib/R/site-library’\n",
            "(as ‘lib’ is unspecified)\n",
            "\n",
            "also installing the dependency ‘webshot’\n",
            "\n",
            "\n",
            "Installing package into ‘/usr/local/lib/R/site-library’\n",
            "(as ‘lib’ is unspecified)\n",
            "\n",
            "also installing the dependency ‘plyr’\n",
            "\n",
            "\n"
          ]
        },
        {
          "output_type": "display_data",
          "data": {
            "text/plain": [
              "   user  system elapsed \n",
              "124.918  15.579 147.595 "
            ]
          },
          "metadata": {}
        },
        {
          "output_type": "stream",
          "name": "stderr",
          "text": [
            "Loaded Tensorflow version 2.8.2\n",
            "\n"
          ]
        },
        {
          "output_type": "display_data",
          "data": {
            "text/html": [
              "'2.8.2'"
            ],
            "text/markdown": "'2.8.2'",
            "text/latex": "'2.8.2'",
            "text/plain": [
              "[1] \"2.8.2\""
            ]
          },
          "metadata": {}
        }
      ]
    },
    {
      "cell_type": "markdown",
      "metadata": {
        "id": "ZdfzJAx_iD4h"
      },
      "source": [
        "# Imports\n",
        "\n",
        "In the next cell, we load all the required libraries and functions. "
      ]
    },
    {
      "cell_type": "code",
      "metadata": {
        "id": "cVYwcayKiJ85",
        "colab": {
          "base_uri": "https://localhost:8080/",
          "height": 260
        },
        "outputId": "2ec48e92-f634-456e-c87d-c13a4a294f82"
      },
      "source": [
        "#Installing TF and Keras takes approx 2 minutes\n",
        "ptm <- proc.time()\n",
        "install.packages(\"tensorflow\")\n",
        "install.packages(\"keras\")\n",
        "install.packages(\"RCurl\")\n",
        "install.packages(\"kableExtra\")\n",
        "proc.time() - ptm\n",
        "#devtools::install_github(\"rstudio/keras\") works ok but no tfp\n",
        "library(keras)\n",
        "library(tensorflow)"
      ],
      "execution_count": 2,
      "outputs": [
        {
          "output_type": "stream",
          "name": "stderr",
          "text": [
            "Installing package into ‘/usr/local/lib/R/site-library’\n",
            "(as ‘lib’ is unspecified)\n",
            "\n",
            "Installing package into ‘/usr/local/lib/R/site-library’\n",
            "(as ‘lib’ is unspecified)\n",
            "\n",
            "Installing package into ‘/usr/local/lib/R/site-library’\n",
            "(as ‘lib’ is unspecified)\n",
            "\n",
            "Installing package into ‘/usr/local/lib/R/site-library’\n",
            "(as ‘lib’ is unspecified)\n",
            "\n"
          ]
        },
        {
          "output_type": "display_data",
          "data": {
            "text/plain": [
              "   user  system elapsed \n",
              " 32.493   5.411  39.013 "
            ]
          },
          "metadata": {}
        }
      ]
    },
    {
      "cell_type": "markdown",
      "metadata": {
        "id": "NKRf-y7qimn1"
      },
      "source": [
        "# Preparing the Data\n",
        "\n",
        "### Image generator function\n",
        "\n",
        "Here we define the function to generate images with vertical and horizontal bars, the arguments of the functions are the size of the image and the number of bars you want to have. The bars are at random positions in the image with a random length. The image is black and white, meaning we have only two values for the pixels, 0 for black and 255 for white."
      ]
    },
    {
      "cell_type": "code",
      "metadata": {
        "id": "x316cOLwjMS_"
      },
      "source": [
        "#define function to generate image with shape (size, size, 1) with stripes\n",
        "f.stripes <- function(size,bar_nr,vertical=TRUE){\n",
        "  img <- matrix(0, nrow = size, ncol = size)\n",
        "  for (i in 1:bar_nr){\n",
        "    x <- runif(1, min = 1, max = size)\n",
        "    y <- runif(1, min = 1, max = size)\n",
        "    l <- runif(1, min = y, max = size)\n",
        "    if (vertical){\n",
        "      img[y:l,x] <- 255\n",
        "    }\n",
        "    else{\n",
        "      img[x,y:l] <- 255\n",
        "    }\n",
        "  }\n",
        "  return(img)\n",
        "}"
      ],
      "execution_count": 3,
      "outputs": []
    },
    {
      "cell_type": "markdown",
      "metadata": {
        "id": "dIAH71c7jX3C"
      },
      "source": [
        "Let's have a look how the generated images. We choose a size of 50x50 pixels and set the nr of bars in the image to 10.\n"
      ]
    },
    {
      "cell_type": "code",
      "metadata": {
        "id": "CpVM2qK_K2Tg",
        "colab": {
          "base_uri": "https://localhost:8080/",
          "height": 437
        },
        "outputId": "ea515dbe-d4bc-493e-d9d4-3d00f7901f71"
      },
      "source": [
        "par(mfrow=c(1,2))\n",
        "par(pty=\"s\")\n",
        "image(f.stripes(50,10,FALSE),col=c(\"black\",\"white\"))\n",
        "image(f.stripes(50,10,TRUE),col=c(\"black\",\"white\"))"
      ],
      "execution_count": 4,
      "outputs": [
        {
          "output_type": "display_data",
          "data": {
            "text/plain": [
              "plot without title"
            ],
            "image/png": "[encoded data removed]"
          },
          "metadata": {
            "image/png": {
              "width": 420,
              "height": 420
            }
          }
        }
      ]
    },
    {
      "cell_type": "markdown",
      "metadata": {
        "id": "tEDRg3-bj8we"
      },
      "source": [
        "**Make a train and validation dataset of images with vertical and horizontal images**\n",
        "\n",
        "Now, let's make a train dataset `X_train` with 1000 images (500 images with vertical and 500 images with horizontal bars). We normalize the images values to be between 0 and 1 by dividing all values with 255. We create a second dataste `X_val` with exactly the same properties to validate the training of the CNN.\n"
      ]
    },
    {
      "cell_type": "code",
      "metadata": {
        "id": "k0DmyAlHFRjc",
        "colab": {
          "base_uri": "https://localhost:8080/"
        },
        "outputId": "993f284d-4aab-4361-d747-dec204f2d1ee"
      },
      "source": [
        "pixel <- 50 # define height and width of images\n",
        "num_images_train <- 1000 #Number of training examples (divisible by 2) \n",
        "num_images_val <- 1000 #Number of training examples (divisible by 2) \n",
        "\n",
        "# generate training data with vertical edges\n",
        "X_train <- array(data = 0, dim= c(num_images_train,pixel,pixel,1))\n",
        "for (i in 1:(num_images_train/2)){\n",
        "  X_train[i,,,] <- f.stripes(pixel,10)\n",
        "}\n",
        "#... with horizontal\n",
        "for (i in (num_images_train/2+1):num_images_train){\n",
        "  X_train[i,,,] <- f.stripes(pixel,10,vertical = FALSE)\n",
        "}\n",
        "\n",
        "# generate validation data \n",
        "X_val <- array(data = 0, dim= c(num_images_val,pixel,pixel,1))\n",
        "for (i in 1:(num_images_val/2)){\n",
        "  X_val[i,,,] <- f.stripes(pixel,10)\n",
        "}\n",
        "#... with horizontal\n",
        "for (i in (num_images_val/2+1):num_images_val){\n",
        "  X_val[i,,,] <- f.stripes(pixel,10,vertical = FALSE)\n",
        "}\n",
        "\n",
        "# normalize the data to be between 0 and 1\n",
        "X_train=X_train/255\n",
        "X_val=X_val/255\n",
        "\n",
        "print(dim(X_train))\n",
        "print(dim(X_val))"
      ],
      "execution_count": 5,
      "outputs": [
        {
          "output_type": "stream",
          "name": "stdout",
          "text": [
            "[1] 1000   50   50    1\n",
            "[1] 1000   50   50    1\n"
          ]
        }
      ]
    },
    {
      "cell_type": "markdown",
      "metadata": {
        "id": "bqHbOBUdFqB9"
      },
      "source": [
        "Here we make the labels for the art lover, 0 means he likes the image and 1 means that he doesn't like it. We convert the labels into the one hot encoding because we want to use two outputs in our network."
      ]
    },
    {
      "cell_type": "code",
      "metadata": {
        "id": "h-xSzCyrFvlv"
      },
      "source": [
        "Y_train <- cbind(c(rep(1,num_images_train/2),\n",
        "                   rep(0,num_images_train/2)),\n",
        "                 c(rep(0,num_images_train/2),\n",
        "                   rep(1,num_images_train/2)))\n",
        "Y_val <- cbind(c(rep(1,num_images_train/2),\n",
        "                 rep(0,num_images_train/2)),\n",
        "                 c(rep(0,num_images_train/2),\n",
        "                   rep(1,num_images_train/2)))"
      ],
      "execution_count": 6,
      "outputs": []
    },
    {
      "cell_type": "markdown",
      "metadata": {
        "id": "82j-ZOxNGy-b"
      },
      "source": [
        "# Defining the CNN \n",
        "\n",
        "Here we define a simple CNN with only one convolutional layer that we train to predict which images the art lover likes. \n",
        "\n",
        "For this CNN is build as follows\n",
        "\n",
        "1. we start with a convolutional layer with only one kernel with a size of 5x5 pixels and a linar activation function\n",
        "2. we use maxpooling layer with the same size as the activation map (which is very uncomon) to determine the maximum of the activation map.\n",
        "4. then we use a dense layer with two nodes and a softmax activation to predict the probability that the art lover will like the image or will not like it.\n",
        "\n",
        "As loss we use the categorical_crossentropy and we train for 20 epochs with a batchsize of 64 images per update.\n",
        "\n",
        "### Listing 2.5 Edge lover CNN"
      ]
    },
    {
      "cell_type": "code",
      "metadata": {
        "id": "RgJ1D6IEGTJa"
      },
      "source": [
        "model <- keras_model_sequential()\n",
        "model %>%\n",
        "  layer_conv_2d(filters=1,\n",
        "                kernel_size = c(5,5),\n",
        "                padding = 'same',\n",
        "                input_shape = c(pixel,pixel,1),\n",
        "                activation = 'linear') %>%\n",
        "  # take the max over all values in the activation map\n",
        "  layer_max_pooling_2d(pool_size = c(pixel,pixel)) %>%\n",
        "  layer_flatten() %>%\n",
        "  layer_dense(units = 2,activation = 'softmax')\n",
        "\n",
        "# compile model and initialize weights\n",
        "model %>%\n",
        "  compile(\n",
        "    optimizer = 'adam',\n",
        "    loss = 'categorical_crossentropy',\n",
        "    metrics = c('accuracy')\n",
        "  )\n"
      ],
      "execution_count": 13,
      "outputs": []
    },
    {
      "cell_type": "markdown",
      "metadata": {
        "id": "J0p7kliPQFC7"
      },
      "source": [
        "**Question** (give it a try before checking the answer below)\n",
        "\n",
        "* how many parameters does this NN have?"
      ]
    },
    {
      "cell_type": "code",
      "metadata": {
        "id": "lxk1gertQTUY",
        "colab": {
          "base_uri": "https://localhost:8080/"
        },
        "outputId": "f75b0a38-1a42-427a-8cf6-20838f611239"
      },
      "source": [
        "# let's summarize the CNN architectures along with the number of model weights\n",
        "summary(model)"
      ],
      "execution_count": 14,
      "outputs": [
        {
          "output_type": "stream",
          "name": "stdout",
          "text": [
            "Model: \"sequential_2\"\n",
            "________________________________________________________________________________\n",
            " Layer (type)                       Output Shape                    Param #     \n",
            "================================================================================\n",
            " conv2d_2 (Conv2D)                  (None, 50, 50, 1)               26          \n",
            " max_pooling2d_2 (MaxPooling2D)     (None, 1, 1, 1)                 0           \n",
            " flatten_2 (Flatten)                (None, 1)                       0           \n",
            " dense_2 (Dense)                    (None, 2)                       4           \n",
            "================================================================================\n",
            "Total params: 30\n",
            "Trainable params: 30\n",
            "Non-trainable params: 0\n",
            "________________________________________________________________________________\n"
          ]
        }
      ]
    },
    {
      "cell_type": "markdown",
      "metadata": {
        "id": "PrY85h-kQb9-"
      },
      "source": [
        "**Answer**\n",
        "\n",
        "5*5+1=26 for the convolution and 2+2=4 for the fully connected layer --> the NN has 30 trainable parameters"
      ]
    },
    {
      "cell_type": "markdown",
      "metadata": {
        "id": "GZOkKDFVGPRC"
      },
      "source": [
        "# Training of the model"
      ]
    },
    {
      "cell_type": "code",
      "metadata": {
        "id": "_SZo_ZIYH7IO"
      },
      "source": [
        "# train the model\n",
        "history <- model %>% \n",
        "  fit(x = X_train,\n",
        "      y = Y_train,\n",
        "      validation_data=list(X_val,Y_val),\n",
        "      batch_size = 64,\n",
        "      verbose = 0,\n",
        "      epochs = 50,\n",
        "      shuffle = TRUE)"
      ],
      "execution_count": 15,
      "outputs": []
    },
    {
      "cell_type": "markdown",
      "metadata": {
        "id": "2A2WsOwCIMYU"
      },
      "source": [
        "In the next cell we plot the accuray and loss of the train and validation vs the number of train eprochs to see how the development"
      ]
    },
    {
      "cell_type": "code",
      "metadata": {
        "id": "h-Pl-JrZIB4H",
        "colab": {
          "base_uri": "https://localhost:8080/",
          "height": 437
        },
        "outputId": "97ca4bae-8ff0-41d4-fffd-4db5b65812c6"
      },
      "source": [
        "par(mfrow=c(1,2))\n",
        "plot(history$metrics$accuracy,\n",
        "     type=\"l\",\n",
        "     lty=4,\n",
        "     main=\"model accuracy\",\n",
        "     ylab=\"accuracy\",\n",
        "     xlab=\"epoch\")\n",
        "lines(history$metrics$val_accuracy,\n",
        "      col=\"orange\")\n",
        "legend(\"bottomright\",legend=c(\"train\",\"valid\"),col=c(\"black\",\"orange\"),lty=c(4,1))\n",
        "\n",
        "plot(history$metrics$loss,\n",
        "     type=\"l\",\n",
        "     lty=4,\n",
        "     main=\"model loss\",\n",
        "     ylab=\"loss\",\n",
        "     xlab=\"epoch\")\n",
        "lines(history$metrics$val_loss,\n",
        "      col=\"orange\")\n",
        "legend(\"topright\",legend=c(\"train\",\"valid\"),\n",
        "       col=c(\"black\",\"orange\"),lty=c(4,1))"
      ],
      "execution_count": 16,
      "outputs": [
        {
          "output_type": "display_data",
          "data": {
            "text/plain": [
              "Plot with title “model loss”"
            ],
            "image/png": "[encoded data removed]"
          },
          "metadata": {
            "image/png": {
              "width": 420,
              "height": 420
            }
          }
        }
      ]
    },
    {
      "cell_type": "markdown",
      "metadata": {
        "id": "WT8cbJv2IaGh"
      },
      "source": [
        "**Visualize the learned kernel and experiment with the code**\n",
        "\n",
        "You see that the CNN performs very good at this task (100% accuracy). We can check which pattern is recognized by the learned kernel and see if you think that this is helpful to distinguish between images with horizontal and vertical edges."
      ]
    },
    {
      "cell_type": "code",
      "metadata": {
        "id": "4YBE2uSJ2JDR",
        "colab": {
          "base_uri": "https://localhost:8080/",
          "height": 437
        },
        "outputId": "32b5256a-80b2-4c8d-9b14-981a472adf18"
      },
      "source": [
        "conv_filter = get_weights(model)[[1]]\n",
        "par(pty=\"s\")\n",
        "image(conv_filter[,,,1],col = gray.colors(12))"
      ],
      "execution_count": 17,
      "outputs": [
        {
          "output_type": "display_data",
          "data": {
            "text/plain": [
              "plot without title"
            ],
            "image/png": "[encoded data removed]"
          },
          "metadata": {
            "image/png": {
              "width": 420,
              "height": 420
            }
          }
        }
      ]
    },
    {
      "cell_type": "markdown",
      "metadata": {
        "id": "uwp2p5ToJ_eH"
      },
      "source": [
        "# Additional Task\n",
        "\n",
        "Repeat the training and experiment with different kernelsize and activation function.\n",
        "\n",
        "<img src=\"https://raw.githubusercontent.com/tensorchiefs/dl_book/master/imgs/paper-pen.png\" width=\"60\" align=\"left\" />  \n",
        "*Exercise: Repeat the compiling and training for several times and check if the CNN always learns the same kernel.\n",
        "You can experiment with the code and check what happens if you use another kernel size, activation function (relu instead of linear ) or pooling method AveragePooling instead of MaxPooling.\n",
        "Try to make a prediction before doing the experiment*"
      ]
    },
    {
      "cell_type": "code",
      "metadata": {
        "id": "p9GvU9ZkPzDW",
        "colab": {
          "base_uri": "https://localhost:8080/",
          "height": 590
        },
        "outputId": "95f674f0-79d6-4b85-f084-044086550450"
      },
      "source": [
        "sessionInfo()"
      ],
      "execution_count": 12,
      "outputs": [
        {
          "output_type": "display_data",
          "data": {
            "text/plain": [
              "R version 4.2.1 (2022-06-23)\n",
              "Platform: x86_64-pc-linux-gnu (64-bit)\n",
              "Running under: Ubuntu 18.04.6 LTS\n",
              "\n",
              "Matrix products: default\n",
              "BLAS:   /usr/lib/x86_64-linux-gnu/openblas/libblas.so.3\n",
              "LAPACK: /usr/lib/x86_64-linux-gnu/libopenblasp-r0.2.20.so\n",
              "\n",
              "locale:\n",
              " [1] LC_CTYPE=en_US.UTF-8       LC_NUMERIC=C              \n",
              " [3] LC_TIME=en_US.UTF-8        LC_COLLATE=en_US.UTF-8    \n",
              " [5] LC_MONETARY=en_US.UTF-8    LC_MESSAGES=en_US.UTF-8   \n",
              " [7] LC_PAPER=en_US.UTF-8       LC_NAME=C                 \n",
              " [9] LC_ADDRESS=C               LC_TELEPHONE=C            \n",
              "[11] LC_MEASUREMENT=en_US.UTF-8 LC_IDENTIFICATION=C       \n",
              "\n",
              "attached base packages:\n",
              "[1] stats     graphics  grDevices utils     datasets  methods   base     \n",
              "\n",
              "other attached packages:\n",
              "[1] tensorflow_2.9.0 keras_2.9.0     \n",
              "\n",
              "loaded via a namespace (and not attached):\n",
              " [1] Rcpp_1.0.9      whisker_0.4     magrittr_2.0.3  rappdirs_0.3.3 \n",
              " [5] uuid_1.1-0      here_1.0.1      lattice_0.20-45 R6_2.5.1       \n",
              " [9] rlang_1.0.4     fastmap_1.1.0   fansi_1.0.3     tools_4.2.1    \n",
              "[13] grid_4.2.1      png_0.1-7       utf8_1.2.2      cli_3.3.0      \n",
              "[17] tfruns_1.5.1    htmltools_0.5.3 rprojroot_2.0.3 digest_0.6.29  \n",
              "[21] lifecycle_1.0.1 crayon_1.5.1    Matrix_1.4-1    IRdisplay_1.1  \n",
              "[25] repr_1.1.4      base64enc_0.1-3 vctrs_0.4.1     IRkernel_1.3   \n",
              "[29] zeallot_0.1.0   glue_1.6.2      evaluate_0.16   pbdZMQ_0.3-7   \n",
              "[33] compiler_4.2.1  pillar_1.8.1    generics_0.1.3  reticulate_1.26\n",
              "[37] jsonlite_1.8.0 "
            ]
          },
          "metadata": {}
        }
      ]
    },
    {
      "cell_type": "code",
      "source": [],
      "metadata": {
        "id": "cB9oNAJcuYdw"
      },
      "execution_count": null,
      "outputs": []
    }
  ]
}