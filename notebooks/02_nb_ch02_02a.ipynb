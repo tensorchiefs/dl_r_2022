{
  "nbformat": 4,
  "nbformat_minor": 0,
  "metadata": {
    "colab": {
      "provenance": [],
      "collapsed_sections": []
    },
    "kernelspec": {
      "name": "ir",
      "display_name": "R"
    }
  },
  "cells": [
    {
      "cell_type": "markdown",
      "metadata": {
        "id": "NizZ7atiCceE"
      },
      "source": [
        "# MNIST digit classification with a fully connected network (fcNN)\n",
        "\n",
        "Many Thanks to Michael Prummer and Lars Bosshard who adpated large parts of the code from Python to R as part of a DL coaching with Beate.\n",
        "\n",
        "**Goal:** In this notebook you will see how to use a fully connected networks (fcNN) in an classification task for images.\n",
        "\n",
        "**Usage:** The idea of the notebook is that you try to understand the provided code by running it, checking the output and playing with it by slightly changing the code and rerunning it. Answer the questions asked.\n",
        "\n",
        "**Dataset:** You work with the MNIST dataset. We have 60'000 28x28 pixel greyscale images of digits and want to classify them into the right label (0-9).\n",
        "\n",
        "**Content:**\n",
        "* load the MNIST data \n",
        "* transform the labels into the one hot encoding\n",
        "* visualize samples of the data\n",
        "* flatten the 2D images into a 1D vector\n",
        "* use keras to train a fcNN and look at the perfomance on new unseen test data\n",
        "* use different activation functions and more hidden layers\n",
        "\n",
        "Original python version \n",
        "| [open in colab](https://colab.research.google.com/github/tensorchiefs/dl_book/blob/master/chapter_02/nb_ch02_02a.ipynb)\n"
      ]
    },
    {
      "cell_type": "markdown",
      "metadata": {
        "id": "M1wzgBlEFPrq"
      },
      "source": [
        "# Installing TensorFlow and Keras\n",
        "\n",
        "The deep learning packages, TensorFlow and Keras are not installed by default, but can be installed as follows:"
      ]
    },
    {
      "cell_type": "code",
      "metadata": {
        "id": "goTZsQAy_VbC",
        "colab": {
          "base_uri": "https://localhost:8080/",
          "height": 625
        },
        "outputId": "91c7c64a-d03a-4650-ee9b-518edd0dfefc"
      },
      "source": [
        "#Installing TF and Keras takes approx 2 minutes\n",
        "ptm <- proc.time()\n",
        "install.packages(\"tensorflow\") \n",
        "install.packages(\"keras\")\n",
        "install.packages(\"RCurl\")\n",
        "install.packages(\"kableExtra\")\n",
        "install.packages(\"reshape2\")\n",
        "proc.time() - ptm\n",
        "#devtools::install_github(\"rstudio/keras\") works ok but no tfp\n",
        "library(keras)\n",
        "library(tensorflow)\n",
        "tf$version$VERSION #2.3.0"
      ],
      "execution_count": 1,
      "outputs": [
        {
          "output_type": "stream",
          "name": "stderr",
          "text": [
            "Installing package into ‘/usr/local/lib/R/site-library’\n",
            "(as ‘lib’ is unspecified)\n",
            "\n",
            "also installing the dependencies ‘Rcpp’, ‘RcppTOML’, ‘here’, ‘png’, ‘config’, ‘reticulate’, ‘tfruns’, ‘tfautograph’\n",
            "\n",
            "\n",
            "Installing package into ‘/usr/local/lib/R/site-library’\n",
            "(as ‘lib’ is unspecified)\n",
            "\n",
            "also installing the dependency ‘zeallot’\n",
            "\n",
            "\n",
            "Installing package into ‘/usr/local/lib/R/site-library’\n",
            "(as ‘lib’ is unspecified)\n",
            "\n",
            "also installing the dependency ‘bitops’\n",
            "\n",
            "\n",
            "Installing package into ‘/usr/local/lib/R/site-library’\n",
            "(as ‘lib’ is unspecified)\n",
            "\n",
            "also installing the dependency ‘webshot’\n",
            "\n",
            "\n",
            "Installing package into ‘/usr/local/lib/R/site-library’\n",
            "(as ‘lib’ is unspecified)\n",
            "\n",
            "also installing the dependency ‘plyr’\n",
            "\n",
            "\n"
          ]
        },
        {
          "output_type": "display_data",
          "data": {
            "text/plain": [
              "   user  system elapsed \n",
              "155.968  18.597 181.529 "
            ]
          },
          "metadata": {}
        },
        {
          "output_type": "stream",
          "name": "stderr",
          "text": [
            "Loaded Tensorflow version 2.8.2\n",
            "\n"
          ]
        },
        {
          "output_type": "display_data",
          "data": {
            "text/html": [
              "'2.8.2'"
            ],
            "text/markdown": "'2.8.2'",
            "text/latex": "'2.8.2'",
            "text/plain": [
              "[1] \"2.8.2\""
            ]
          },
          "metadata": {}
        }
      ]
    },
    {
      "cell_type": "markdown",
      "metadata": {
        "id": "ZdfzJAx_iD4h"
      },
      "source": [
        "# Imports and loading the data\n",
        "\n",
        "In the next cell, we load all the required libraries and functions. We download the Mnist data, normalize the pixelvalues to be between 0 and 1, and seperate it into a training and validation set."
      ]
    },
    {
      "cell_type": "code",
      "metadata": {
        "id": "cVYwcayKiJ85"
      },
      "source": [
        "library(keras)\n",
        "library(RCurl)\n",
        "library(ggplot2)\n",
        "library(kableExtra)\n",
        "library(reshape2)"
      ],
      "execution_count": 2,
      "outputs": []
    },
    {
      "cell_type": "markdown",
      "metadata": {
        "id": "NKRf-y7qimn1"
      },
      "source": [
        "## Loading and preparing the MNIST data and transfering the labels into the one hot encoding\n",
        "\n",
        "Here we load the MNIST dataset form keras. The 8-bit greyscale images have values form 0 to 255, we divide all values with 255 so that the values are in a range between 0 and 1. In additon we transform the true labels, which are the numbers from 0 to 9 (the digit on the image) into the one hot encoding. We do this to make use of linear algebra in the calculation of the crossentropy loss.  \n",
        "  \n",
        "The one hot encoding transforms the labels into a vector with the same length as we have labels (in our case 10). The resulting vector in the one hot encodig is zero everywhere except for the position of the true label, there it is 1. Let's look at some examples to make it more clear:  \n",
        "\n",
        "0 becomes [1,0,0,0,0,0,0,0,0,0]  \n",
        "1 becomes [0,1,0,0,0,0,0,0,0,0]  \n",
        "2 becomes [0,0,1,0,0,0,0,0,0,0]  \n",
        "...  \n",
        "9 becomes [0,0,0,0,0,0,0,0,0,1]  "
      ]
    },
    {
      "cell_type": "code",
      "metadata": {
        "id": "x316cOLwjMS_"
      },
      "source": [
        "mnist = dataset_mnist()\n",
        "x_train = mnist$train$x[1:50000, , ] / 255\n",
        "y_train = to_categorical(mnist$train$y[1:50000],   # one-hot encoding\n",
        "                         num_classes = length(unique(mnist$train$y)))\n",
        "x_val = mnist$train$x[50001:60000, , ] / 255\n",
        "y_val = to_categorical(mnist$train$y[50001:60000],\n",
        "                         num_classes = length(unique(mnist$train$y)))\n",
        "x_test = mnist$test$x / 255\n",
        "y_test = to_categorical(mnist$test$y, \n",
        "                        num_classes = length(unique(mnist$test$y)))\n",
        "true_class = mnist$test$y\n",
        "rm(mnist)\n",
        "\n",
        "x_train = array_reshape(x_train, c(dim(x_train), 1))\n",
        "x_val = array_reshape(x_val, c(dim(x_val), 1))\n",
        "x_test = array_reshape(x_test, c(dim(x_test), 1))"
      ],
      "execution_count": 3,
      "outputs": []
    },
    {
      "cell_type": "code",
      "metadata": {
        "id": "BtJm0kydNK7h",
        "colab": {
          "base_uri": "https://localhost:8080/",
          "height": 34
        },
        "outputId": "84196334-a442-444e-b64e-1b99b8dcb479"
      },
      "source": [
        "dim(x_train)"
      ],
      "execution_count": 4,
      "outputs": [
        {
          "output_type": "display_data",
          "data": {
            "text/html": [
              "<style>\n",
              ".list-inline {list-style: none; margin:0; padding: 0}\n",
              ".list-inline>li {display: inline-block}\n",
              ".list-inline>li:not(:last-child)::after {content: \"\\00b7\"; padding: 0 .5ex}\n",
              "</style>\n",
              "<ol class=list-inline><li>50000</li><li>28</li><li>28</li><li>1</li></ol>\n"
            ],
            "text/markdown": "1. 50000\n2. 28\n3. 28\n4. 1\n\n\n",
            "text/latex": "\\begin{enumerate*}\n\\item 50000\n\\item 28\n\\item 28\n\\item 1\n\\end{enumerate*}\n",
            "text/plain": [
              "[1] 50000    28    28     1"
            ]
          },
          "metadata": {}
        }
      ]
    },
    {
      "cell_type": "markdown",
      "metadata": {
        "id": "dIAH71c7jX3C"
      },
      "source": [
        "## Visualization of the data set\n",
        "Let's visualize the first 36 mnist images. It is very easy to recognise the true label of the digits.\n"
      ]
    },
    {
      "cell_type": "code",
      "metadata": {
        "id": "CpVM2qK_K2Tg",
        "colab": {
          "base_uri": "https://localhost:8080/",
          "height": 437
        },
        "outputId": "de72771c-7d5d-46c0-dda0-5987e5a61382"
      },
      "source": [
        "# visualize the digits, see https://stackoverflow.com/questions/37953644/r-image-plot-mnist-dataset\n",
        "par(mfcol=c(6,6))\n",
        "par(mar=c(0, 0, 3, 0), xaxs='i', yaxs='i')\n",
        "for (idx in 1:36) { \n",
        "    im <- x_train[idx,,,1]\n",
        "    im <- t(apply(im, 2, rev)) \n",
        "    image(1:28, 1:28, im, col=gray((0:255)/255), xaxt='n')\n",
        "}"
      ],
      "execution_count": 5,
      "outputs": [
        {
          "output_type": "display_data",
          "data": {
            "text/plain": [
              "plot without title"
            ],
            "image/png": "[encoded data removed]"
          },
          "metadata": {
            "image/png": {
              "width": 420,
              "height": 420
            }
          }
        }
      ]
    },
    {
      "cell_type": "markdown",
      "metadata": {
        "id": "tEDRg3-bj8we"
      },
      "source": [
        "# fcNN as classification model for MNIST data\n",
        "Now we want to train a fcNN to classify the MNIST data.\n",
        "* we use a fcNN with 2 hidden layers and use the sigmoid activation function\n",
        "* train it on train data and check the performance on the test data\n"
      ]
    },
    {
      "cell_type": "markdown",
      "metadata": {
        "id": "j9T5FGvgFcB-"
      },
      "source": [
        "## Flatten the data\n",
        "Because we will use fcNN our input cannot be matrices or tensors. We need to flatten our input into a 1d vector. We do this in the next cell with reshap and look at the resulting shape of the flattened data."
      ]
    },
    {
      "cell_type": "code",
      "metadata": {
        "id": "k0DmyAlHFRjc"
      },
      "source": [
        "# first do it for original data\n",
        "x_train_flat = array(x_train, dim=c(dim(x_train)[1], dim(x_train)[2] * dim(x_train)[3]))\n",
        "x_val_flat = array(x_val, dim=c(dim(x_val)[1], dim(x_val)[2] * dim(x_val)[3]))\n",
        "x_test_flat = array(x_test, dim=c(dim(x_test)[1], dim(x_test)[2] * dim(x_test)[3]))"
      ],
      "execution_count": 6,
      "outputs": []
    },
    {
      "cell_type": "code",
      "metadata": {
        "id": "7LNmpaXWNTbU",
        "colab": {
          "base_uri": "https://localhost:8080/",
          "height": 34
        },
        "outputId": "2857cb58-73d0-4f99-e1fa-6330cbda92b1"
      },
      "source": [
        "dim(x_train_flat)"
      ],
      "execution_count": 7,
      "outputs": [
        {
          "output_type": "display_data",
          "data": {
            "text/html": [
              "<style>\n",
              ".list-inline {list-style: none; margin:0; padding: 0}\n",
              ".list-inline>li {display: inline-block}\n",
              ".list-inline>li:not(:last-child)::after {content: \"\\00b7\"; padding: 0 .5ex}\n",
              "</style>\n",
              "<ol class=list-inline><li>50000</li><li>784</li></ol>\n"
            ],
            "text/markdown": "1. 50000\n2. 784\n\n\n",
            "text/latex": "\\begin{enumerate*}\n\\item 50000\n\\item 784\n\\end{enumerate*}\n",
            "text/plain": [
              "[1] 50000   784"
            ]
          },
          "metadata": {}
        }
      ]
    },
    {
      "cell_type": "markdown",
      "metadata": {
        "id": "bqHbOBUdFqB9"
      },
      "source": [
        "## Definition of the network\n",
        "\n",
        "Here we define the nework, we use two hidden layers with 100 and 50 nodes. In the output we predict the probability for the 10 digits with the softmax actication function, in the hidden layers we use the sigmoid activation function and our loss is the categroical crossentropy loss.\n"
      ]
    },
    {
      "cell_type": "code",
      "metadata": {
        "id": "h-xSzCyrFvlv",
        "colab": {
          "base_uri": "https://localhost:8080/"
        },
        "outputId": "f2ad391d-3a2b-486b-f928-edf7db1fca4e"
      },
      "source": [
        "model = keras_model_sequential() \n",
        "model = layer_dense(model, units =  100, activation = 'relu', input_shape = c(784))\n",
        "model = layer_dense(model, units = 50, activation = 'relu')\n",
        "model = layer_dense(model, units = 10, activation = 'softmax')\n",
        "# compile model and intitialize weights\n",
        "model = compile(model, optimizer='adam', loss='categorical_crossentropy', metrics='accuracy')\n",
        "# summarize model along with number of model weights\n",
        "summary(model)"
      ],
      "execution_count": 10,
      "outputs": [
        {
          "output_type": "stream",
          "name": "stdout",
          "text": [
            "Model: \"sequential_1\"\n",
            "________________________________________________________________________________\n",
            " Layer (type)                       Output Shape                    Param #     \n",
            "================================================================================\n",
            " dense (Dense)                      (None, 100)                     78500       \n",
            " dense_1 (Dense)                    (None, 50)                      5050        \n",
            " dense_2 (Dense)                    (None, 10)                      510         \n",
            "================================================================================\n",
            "Total params: 84,060\n",
            "Trainable params: 84,060\n",
            "Non-trainable params: 0\n",
            "________________________________________________________________________________\n"
          ]
        }
      ]
    },
    {
      "cell_type": "markdown",
      "source": [
        "**Questions**\n",
        "\n",
        "* Can you explain the number of parameters of the first layer / of all layers? \n",
        "* Think a bit before you scroll down\n"
      ],
      "metadata": {
        "id": "j6zWuEptIk6W"
      }
    },
    {
      "cell_type": "code",
      "source": [
        "#@title Solution { display-mode: \"form\" }\n",
        "784*100 + 100 #First Layer\n",
        "\n",
        "784*100 + 100 + #First Layer (including the bias term) \n",
        "100*50 + 50 + #Second Layer\n",
        "50*10 + 10"
      ],
      "metadata": {
        "id": "oJcomuq9I5yv",
        "outputId": "885f90b2-9a1a-431b-e118-3576804eb96c",
        "colab": {
          "base_uri": "https://localhost:8080/",
          "height": 52
        }
      },
      "execution_count": 30,
      "outputs": [
        {
          "output_type": "display_data",
          "data": {
            "text/html": [
              "78500"
            ],
            "text/markdown": "78500",
            "text/latex": "78500",
            "text/plain": [
              "[1] 78500"
            ]
          },
          "metadata": {}
        },
        {
          "output_type": "display_data",
          "data": {
            "text/html": [
              "84060"
            ],
            "text/markdown": "84060",
            "text/latex": "84060",
            "text/plain": [
              "[1] 84060"
            ]
          },
          "metadata": {}
        }
      ]
    },
    {
      "cell_type": "markdown",
      "metadata": {
        "id": "82j-ZOxNGy-b"
      },
      "source": [
        "## Loss of untrained network\n",
        "\n",
        "The following code evaluates the test loss and the accuracy of an untrained network. "
      ]
    },
    {
      "cell_type": "code",
      "metadata": {
        "id": "RgJ1D6IEGTJa",
        "colab": {
          "base_uri": "https://localhost:8080/",
          "height": 34
        },
        "outputId": "bba01527-9d36-49ea-ab4b-136f4e6a38cf"
      },
      "source": [
        "model$evaluate(x_test_flat, y_test)"
      ],
      "execution_count": 12,
      "outputs": [
        {
          "output_type": "display_data",
          "data": {
            "text/html": [
              "<style>\n",
              ".list-inline {list-style: none; margin:0; padding: 0}\n",
              ".list-inline>li {display: inline-block}\n",
              ".list-inline>li:not(:last-child)::after {content: \"\\00b7\"; padding: 0 .5ex}\n",
              "</style>\n",
              "<ol class=list-inline><li>2.32514929771423</li><li>0.109899997711182</li></ol>\n"
            ],
            "text/markdown": "1. 2.32514929771423\n2. 0.109899997711182\n\n\n",
            "text/latex": "\\begin{enumerate*}\n\\item 2.32514929771423\n\\item 0.109899997711182\n\\end{enumerate*}\n",
            "text/plain": [
              "[1] 2.325149 0.109900"
            ]
          },
          "metadata": {}
        }
      ]
    },
    {
      "cell_type": "code",
      "source": [
        "#@title The loss of the untrained network is about 2.3 can you explain that number { display-mode: \"form\" }\n",
        "-log(0.1)"
      ],
      "metadata": {
        "id": "ZO9c-iGdJ7hg",
        "outputId": "8b213f90-c635-455c-e81e-a637460b07a1",
        "colab": {
          "base_uri": "https://localhost:8080/",
          "height": 34
        }
      },
      "execution_count": 32,
      "outputs": [
        {
          "output_type": "display_data",
          "data": {
            "text/html": [
              "2.30258509299405"
            ],
            "text/markdown": "2.30258509299405",
            "text/latex": "2.30258509299405",
            "text/plain": [
              "[1] 2.302585"
            ]
          },
          "metadata": {}
        }
      ]
    },
    {
      "cell_type": "markdown",
      "metadata": {
        "id": "GZOkKDFVGPRC"
      },
      "source": [
        "## Training of the model"
      ]
    },
    {
      "cell_type": "code",
      "metadata": {
        "id": "_SZo_ZIYH7IO"
      },
      "source": [
        "history = fit(model, x_train_flat, y_train, batch_size=128, epochs=5, verbose=2, \n",
        "              validation_data=list(x_val_flat, y_val))"
      ],
      "execution_count": 14,
      "outputs": []
    },
    {
      "cell_type": "markdown",
      "metadata": {
        "id": "2A2WsOwCIMYU"
      },
      "source": [
        "In the next cell we plot the accuray and loss of the train and validation vs the number of train eprochs to see how the development"
      ]
    },
    {
      "cell_type": "code",
      "metadata": {
        "id": "h-Pl-JrZIB4H",
        "colab": {
          "base_uri": "https://localhost:8080/",
          "height": 437
        },
        "outputId": "0052a41d-b658-486d-dd52-011d895f71f0"
      },
      "source": [
        "plot(history) + theme_bw()"
      ],
      "execution_count": 15,
      "outputs": [
        {
          "output_type": "display_data",
          "data": {
            "text/plain": [
              "plot without title"
            ],
            "image/png": "[encoded data removed]"
          },
          "metadata": {
            "image/png": {
              "width": 420,
              "height": 420
            }
          }
        }
      ]
    },
    {
      "cell_type": "markdown",
      "metadata": {
        "id": "WT8cbJv2IaGh"
      },
      "source": [
        "## Prediction on the original test set after training on original data\n",
        "\n",
        "Now, let's use the fcNN that was trained on the flattened MNIST data to predict new unseen data (our testdata).\n",
        "We determine the confusion matrix and the accuracy on the testdata to evaluate the classification performance.\n"
      ]
    },
    {
      "cell_type": "code",
      "source": [
        "pred = predict(model, x_test_flat)"
      ],
      "metadata": {
        "id": "Hdbk5SpheygK"
      },
      "execution_count": 16,
      "outputs": []
    },
    {
      "cell_type": "code",
      "source": [
        "head(pred)"
      ],
      "metadata": {
        "colab": {
          "base_uri": "https://localhost:8080/",
          "height": 222
        },
        "id": "GZ24q7w__nXL",
        "outputId": "bf3e60de-43e2-4baa-8362-b63b55192ae4"
      },
      "execution_count": 17,
      "outputs": [
        {
          "output_type": "display_data",
          "data": {
            "text/html": [
              "<table class=\"dataframe\">\n",
              "<caption>A matrix: 6 × 10 of type dbl</caption>\n",
              "<tbody>\n",
              "\t<tr><td>1.394386e-07</td><td>3.453674e-08</td><td>2.555326e-04</td><td>1.319605e-03</td><td>1.500449e-10</td><td>1.748962e-06</td><td>3.277820e-09</td><td>9.984085e-01</td><td>7.751236e-06</td><td>6.822056e-06</td></tr>\n",
              "\t<tr><td>4.234283e-07</td><td>1.156809e-03</td><td>9.981186e-01</td><td>5.600160e-04</td><td>7.047604e-11</td><td>1.403521e-04</td><td>5.460678e-06</td><td>9.689061e-11</td><td>1.832404e-05</td><td>5.979744e-10</td></tr>\n",
              "\t<tr><td>1.738581e-05</td><td>9.967141e-01</td><td>6.508305e-04</td><td>2.369580e-04</td><td>1.546914e-04</td><td>2.604270e-05</td><td>5.383703e-05</td><td>1.842460e-03</td><td>2.339449e-04</td><td>6.974342e-05</td></tr>\n",
              "\t<tr><td>9.995669e-01</td><td>5.248397e-07</td><td>7.793689e-05</td><td>1.289718e-05</td><td>2.521622e-06</td><td>4.705356e-05</td><td>1.298232e-04</td><td>9.909202e-05</td><td>1.473630e-07</td><td>6.316381e-05</td></tr>\n",
              "\t<tr><td>1.610102e-05</td><td>5.463822e-06</td><td>3.637360e-05</td><td>1.072880e-05</td><td>8.973444e-01</td><td>3.549598e-07</td><td>9.846967e-06</td><td>6.822008e-05</td><td>7.383296e-05</td><td>1.024347e-01</td></tr>\n",
              "\t<tr><td>6.913982e-07</td><td>9.985927e-01</td><td>1.519898e-05</td><td>1.781372e-05</td><td>1.576344e-05</td><td>1.324613e-07</td><td>1.095429e-07</td><td>1.322667e-03</td><td>2.780346e-06</td><td>3.213023e-05</td></tr>\n",
              "</tbody>\n",
              "</table>\n"
            ],
            "text/markdown": "\nA matrix: 6 × 10 of type dbl\n\n| 1.394386e-07 | 3.453674e-08 | 2.555326e-04 | 1.319605e-03 | 1.500449e-10 | 1.748962e-06 | 3.277820e-09 | 9.984085e-01 | 7.751236e-06 | 6.822056e-06 |\n| 4.234283e-07 | 1.156809e-03 | 9.981186e-01 | 5.600160e-04 | 7.047604e-11 | 1.403521e-04 | 5.460678e-06 | 9.689061e-11 | 1.832404e-05 | 5.979744e-10 |\n| 1.738581e-05 | 9.967141e-01 | 6.508305e-04 | 2.369580e-04 | 1.546914e-04 | 2.604270e-05 | 5.383703e-05 | 1.842460e-03 | 2.339449e-04 | 6.974342e-05 |\n| 9.995669e-01 | 5.248397e-07 | 7.793689e-05 | 1.289718e-05 | 2.521622e-06 | 4.705356e-05 | 1.298232e-04 | 9.909202e-05 | 1.473630e-07 | 6.316381e-05 |\n| 1.610102e-05 | 5.463822e-06 | 3.637360e-05 | 1.072880e-05 | 8.973444e-01 | 3.549598e-07 | 9.846967e-06 | 6.822008e-05 | 7.383296e-05 | 1.024347e-01 |\n| 6.913982e-07 | 9.985927e-01 | 1.519898e-05 | 1.781372e-05 | 1.576344e-05 | 1.324613e-07 | 1.095429e-07 | 1.322667e-03 | 2.780346e-06 | 3.213023e-05 |\n\n",
            "text/latex": "A matrix: 6 × 10 of type dbl\n\\begin{tabular}{llllllllll}\n\t 1.394386e-07 & 3.453674e-08 & 2.555326e-04 & 1.319605e-03 & 1.500449e-10 & 1.748962e-06 & 3.277820e-09 & 9.984085e-01 & 7.751236e-06 & 6.822056e-06\\\\\n\t 4.234283e-07 & 1.156809e-03 & 9.981186e-01 & 5.600160e-04 & 7.047604e-11 & 1.403521e-04 & 5.460678e-06 & 9.689061e-11 & 1.832404e-05 & 5.979744e-10\\\\\n\t 1.738581e-05 & 9.967141e-01 & 6.508305e-04 & 2.369580e-04 & 1.546914e-04 & 2.604270e-05 & 5.383703e-05 & 1.842460e-03 & 2.339449e-04 & 6.974342e-05\\\\\n\t 9.995669e-01 & 5.248397e-07 & 7.793689e-05 & 1.289718e-05 & 2.521622e-06 & 4.705356e-05 & 1.298232e-04 & 9.909202e-05 & 1.473630e-07 & 6.316381e-05\\\\\n\t 1.610102e-05 & 5.463822e-06 & 3.637360e-05 & 1.072880e-05 & 8.973444e-01 & 3.549598e-07 & 9.846967e-06 & 6.822008e-05 & 7.383296e-05 & 1.024347e-01\\\\\n\t 6.913982e-07 & 9.985927e-01 & 1.519898e-05 & 1.781372e-05 & 1.576344e-05 & 1.324613e-07 & 1.095429e-07 & 1.322667e-03 & 2.780346e-06 & 3.213023e-05\\\\\n\\end{tabular}\n",
            "text/plain": [
              "     [,1]         [,2]         [,3]         [,4]         [,5]        \n",
              "[1,] 1.394386e-07 3.453674e-08 2.555326e-04 1.319605e-03 1.500449e-10\n",
              "[2,] 4.234283e-07 1.156809e-03 9.981186e-01 5.600160e-04 7.047604e-11\n",
              "[3,] 1.738581e-05 9.967141e-01 6.508305e-04 2.369580e-04 1.546914e-04\n",
              "[4,] 9.995669e-01 5.248397e-07 7.793689e-05 1.289718e-05 2.521622e-06\n",
              "[5,] 1.610102e-05 5.463822e-06 3.637360e-05 1.072880e-05 8.973444e-01\n",
              "[6,] 6.913982e-07 9.985927e-01 1.519898e-05 1.781372e-05 1.576344e-05\n",
              "     [,6]         [,7]         [,8]         [,9]         [,10]       \n",
              "[1,] 1.748962e-06 3.277820e-09 9.984085e-01 7.751236e-06 6.822056e-06\n",
              "[2,] 1.403521e-04 5.460678e-06 9.689061e-11 1.832404e-05 5.979744e-10\n",
              "[3,] 2.604270e-05 5.383703e-05 1.842460e-03 2.339449e-04 6.974342e-05\n",
              "[4,] 4.705356e-05 1.298232e-04 9.909202e-05 1.473630e-07 6.316381e-05\n",
              "[5,] 3.549598e-07 9.846967e-06 6.822008e-05 7.383296e-05 1.024347e-01\n",
              "[6,] 1.324613e-07 1.095429e-07 1.322667e-03 2.780346e-06 3.213023e-05"
            ]
          },
          "metadata": {}
        }
      ]
    },
    {
      "cell_type": "code",
      "source": [
        "head(y_test)"
      ],
      "metadata": {
        "colab": {
          "base_uri": "https://localhost:8080/",
          "height": 222
        },
        "id": "8_Ss30MF_2w5",
        "outputId": "b43a89e1-1a65-4466-9bc5-e6eeb53d43a3"
      },
      "execution_count": 18,
      "outputs": [
        {
          "output_type": "display_data",
          "data": {
            "text/html": [
              "<table class=\"dataframe\">\n",
              "<caption>A matrix: 6 × 10 of type dbl</caption>\n",
              "<tbody>\n",
              "\t<tr><td>0</td><td>0</td><td>0</td><td>0</td><td>0</td><td>0</td><td>0</td><td>1</td><td>0</td><td>0</td></tr>\n",
              "\t<tr><td>0</td><td>0</td><td>1</td><td>0</td><td>0</td><td>0</td><td>0</td><td>0</td><td>0</td><td>0</td></tr>\n",
              "\t<tr><td>0</td><td>1</td><td>0</td><td>0</td><td>0</td><td>0</td><td>0</td><td>0</td><td>0</td><td>0</td></tr>\n",
              "\t<tr><td>1</td><td>0</td><td>0</td><td>0</td><td>0</td><td>0</td><td>0</td><td>0</td><td>0</td><td>0</td></tr>\n",
              "\t<tr><td>0</td><td>0</td><td>0</td><td>0</td><td>1</td><td>0</td><td>0</td><td>0</td><td>0</td><td>0</td></tr>\n",
              "\t<tr><td>0</td><td>1</td><td>0</td><td>0</td><td>0</td><td>0</td><td>0</td><td>0</td><td>0</td><td>0</td></tr>\n",
              "</tbody>\n",
              "</table>\n"
            ],
            "text/markdown": "\nA matrix: 6 × 10 of type dbl\n\n| 0 | 0 | 0 | 0 | 0 | 0 | 0 | 1 | 0 | 0 |\n| 0 | 0 | 1 | 0 | 0 | 0 | 0 | 0 | 0 | 0 |\n| 0 | 1 | 0 | 0 | 0 | 0 | 0 | 0 | 0 | 0 |\n| 1 | 0 | 0 | 0 | 0 | 0 | 0 | 0 | 0 | 0 |\n| 0 | 0 | 0 | 0 | 1 | 0 | 0 | 0 | 0 | 0 |\n| 0 | 1 | 0 | 0 | 0 | 0 | 0 | 0 | 0 | 0 |\n\n",
            "text/latex": "A matrix: 6 × 10 of type dbl\n\\begin{tabular}{llllllllll}\n\t 0 & 0 & 0 & 0 & 0 & 0 & 0 & 1 & 0 & 0\\\\\n\t 0 & 0 & 1 & 0 & 0 & 0 & 0 & 0 & 0 & 0\\\\\n\t 0 & 1 & 0 & 0 & 0 & 0 & 0 & 0 & 0 & 0\\\\\n\t 1 & 0 & 0 & 0 & 0 & 0 & 0 & 0 & 0 & 0\\\\\n\t 0 & 0 & 0 & 0 & 1 & 0 & 0 & 0 & 0 & 0\\\\\n\t 0 & 1 & 0 & 0 & 0 & 0 & 0 & 0 & 0 & 0\\\\\n\\end{tabular}\n",
            "text/plain": [
              "     [,1] [,2] [,3] [,4] [,5] [,6] [,7] [,8] [,9] [,10]\n",
              "[1,] 0    0    0    0    0    0    0    1    0    0    \n",
              "[2,] 0    0    1    0    0    0    0    0    0    0    \n",
              "[3,] 0    1    0    0    0    0    0    0    0    0    \n",
              "[4,] 1    0    0    0    0    0    0    0    0    0    \n",
              "[5,] 0    0    0    0    1    0    0    0    0    0    \n",
              "[6,] 0    1    0    0    0    0    0    0    0    0    "
            ]
          },
          "metadata": {}
        }
      ]
    },
    {
      "cell_type": "code",
      "source": [
        "pred = k_argmax(predict(model, x_test_flat))\n",
        "pred$numpy()"
      ],
      "metadata": {
        "id": "3E9n2wAce0_L",
        "colab": {
          "base_uri": "https://localhost:8080/",
          "height": 121
        },
        "outputId": "72c17e13-75f2-4b4c-fc01-e784e6ca0d2d"
      },
      "execution_count": 19,
      "outputs": [
        {
          "output_type": "display_data",
          "data": {
            "text/html": [
              "<style>\n",
              ".list-inline {list-style: none; margin:0; padding: 0}\n",
              ".list-inline>li {display: inline-block}\n",
              ".list-inline>li:not(:last-child)::after {content: \"\\00b7\"; padding: 0 .5ex}\n",
              "</style>\n",
              "<ol class=list-inline><li>7</li><li>2</li><li>1</li><li>0</li><li>4</li><li>1</li><li>4</li><li>9</li><li>6</li><li>9</li><li>0</li><li>6</li><li>9</li><li>0</li><li>1</li><li>5</li><li>9</li><li>7</li><li>3</li><li>4</li><li>9</li><li>6</li><li>6</li><li>5</li><li>4</li><li>0</li><li>7</li><li>4</li><li>0</li><li>1</li><li>3</li><li>1</li><li>3</li><li>4</li><li>7</li><li>2</li><li>7</li><li>1</li><li>2</li><li>1</li><li>1</li><li>7</li><li>4</li><li>2</li><li>3</li><li>5</li><li>1</li><li>2</li><li>4</li><li>4</li><li>6</li><li>3</li><li>5</li><li>5</li><li>6</li><li>0</li><li>4</li><li>1</li><li>9</li><li>5</li><li>7</li><li>8</li><li>9</li><li>3</li><li>7</li><li>4</li><li>6</li><li>4</li><li>3</li><li>0</li><li>7</li><li>0</li><li>2</li><li>9</li><li>1</li><li>7</li><li>3</li><li>2</li><li>9</li><li>7</li><li>7</li><li>6</li><li>2</li><li>7</li><li>8</li><li>4</li><li>7</li><li>3</li><li>6</li><li>1</li><li>3</li><li>6</li><li>9</li><li>3</li><li>1</li><li>4</li><li>1</li><li>7</li><li>6</li><li>9</li><li>6</li><li>0</li><li>5</li><li>4</li><li>9</li><li>9</li><li>2</li><li>1</li><li>9</li><li>4</li><li>8</li><li>7</li><li>3</li><li>9</li><li>7</li><li>4</li><li>4</li><li>4</li><li>9</li><li>2</li><li>5</li><li>4</li><li>7</li><li>6</li><li>7</li><li>9</li><li>0</li><li>5</li><li>8</li><li>5</li><li>6</li><li>6</li><li>5</li><li>7</li><li>8</li><li>1</li><li>0</li><li>1</li><li>6</li><li>4</li><li>6</li><li>7</li><li>3</li><li>1</li><li>7</li><li>1</li><li>8</li><li>2</li><li>0</li><li>2</li><li>9</li><li>9</li><li>5</li><li>5</li><li>1</li><li>5</li><li>6</li><li>0</li><li>3</li><li>4</li><li>4</li><li>6</li><li>5</li><li>4</li><li>6</li><li>5</li><li>4</li><li>5</li><li>1</li><li>4</li><li>4</li><li>7</li><li>2</li><li>3</li><li>2</li><li>7</li><li>1</li><li>8</li><li>1</li><li>8</li><li>1</li><li>8</li><li>5</li><li>0</li><li>8</li><li>9</li><li>2</li><li>5</li><li>0</li><li>1</li><li>1</li><li>1</li><li>0</li><li>9</li><li>0</li><li>3</li><li>1</li><li>6</li><li>4</li><li>2</li><li>⋯</li><li>0</li><li>0</li><li>1</li><li>2</li><li>3</li><li>4</li><li>7</li><li>8</li><li>9</li><li>0</li><li>1</li><li>2</li><li>3</li><li>4</li><li>5</li><li>6</li><li>7</li><li>8</li><li>0</li><li>1</li><li>2</li><li>3</li><li>4</li><li>7</li><li>8</li><li>9</li><li>0</li><li>8</li><li>3</li><li>9</li><li>5</li><li>5</li><li>2</li><li>6</li><li>8</li><li>4</li><li>1</li><li>7</li><li>1</li><li>7</li><li>3</li><li>5</li><li>6</li><li>9</li><li>1</li><li>1</li><li>1</li><li>2</li><li>1</li><li>2</li><li>0</li><li>7</li><li>7</li><li>5</li><li>8</li><li>2</li><li>9</li><li>8</li><li>6</li><li>7</li><li>3</li><li>4</li><li>6</li><li>8</li><li>7</li><li>0</li><li>4</li><li>2</li><li>7</li><li>7</li><li>5</li><li>4</li><li>3</li><li>4</li><li>2</li><li>8</li><li>1</li><li>5</li><li>1</li><li>0</li><li>2</li><li>3</li><li>3</li><li>5</li><li>7</li><li>0</li><li>6</li><li>8</li><li>6</li><li>3</li><li>9</li><li>9</li><li>8</li><li>2</li><li>7</li><li>7</li><li>1</li><li>0</li><li>1</li><li>7</li><li>8</li><li>9</li><li>0</li><li>1</li><li>3</li><li>3</li><li>4</li><li>5</li><li>6</li><li>7</li><li>8</li><li>0</li><li>1</li><li>2</li><li>3</li><li>4</li><li>7</li><li>8</li><li>9</li><li>7</li><li>8</li><li>6</li><li>4</li><li>1</li><li>9</li><li>3</li><li>8</li><li>4</li><li>4</li><li>7</li><li>0</li><li>1</li><li>9</li><li>2</li><li>8</li><li>7</li><li>8</li><li>2</li><li>6</li><li>0</li><li>4</li><li>5</li><li>3</li><li>3</li><li>8</li><li>9</li><li>1</li><li>4</li><li>0</li><li>6</li><li>1</li><li>0</li><li>0</li><li>6</li><li>2</li><li>1</li><li>1</li><li>7</li><li>7</li><li>8</li><li>4</li><li>6</li><li>0</li><li>7</li><li>0</li><li>3</li><li>6</li><li>8</li><li>7</li><li>1</li><li>5</li><li>2</li><li>4</li><li>9</li><li>4</li><li>3</li><li>6</li><li>4</li><li>1</li><li>7</li><li>3</li><li>6</li><li>6</li><li>0</li><li>1</li><li>2</li><li>3</li><li>4</li><li>5</li><li>6</li><li>7</li><li>8</li><li>9</li><li>0</li><li>1</li><li>2</li><li>3</li><li>4</li><li>5</li><li>6</li></ol>\n"
            ],
            "text/markdown": "1. 7\n2. 2\n3. 1\n4. 0\n5. 4\n6. 1\n7. 4\n8. 9\n9. 6\n10. 9\n11. 0\n12. 6\n13. 9\n14. 0\n15. 1\n16. 5\n17. 9\n18. 7\n19. 3\n20. 4\n21. 9\n22. 6\n23. 6\n24. 5\n25. 4\n26. 0\n27. 7\n28. 4\n29. 0\n30. 1\n31. 3\n32. 1\n33. 3\n34. 4\n35. 7\n36. 2\n37. 7\n38. 1\n39. 2\n40. 1\n41. 1\n42. 7\n43. 4\n44. 2\n45. 3\n46. 5\n47. 1\n48. 2\n49. 4\n50. 4\n51. 6\n52. 3\n53. 5\n54. 5\n55. 6\n56. 0\n57. 4\n58. 1\n59. 9\n60. 5\n61. 7\n62. 8\n63. 9\n64. 3\n65. 7\n66. 4\n67. 6\n68. 4\n69. 3\n70. 0\n71. 7\n72. 0\n73. 2\n74. 9\n75. 1\n76. 7\n77. 3\n78. 2\n79. 9\n80. 7\n81. 7\n82. 6\n83. 2\n84. 7\n85. 8\n86. 4\n87. 7\n88. 3\n89. 6\n90. 1\n91. 3\n92. 6\n93. 9\n94. 3\n95. 1\n96. 4\n97. 1\n98. 7\n99. 6\n100. 9\n101. 6\n102. 0\n103. 5\n104. 4\n105. 9\n106. 9\n107. 2\n108. 1\n109. 9\n110. 4\n111. 8\n112. 7\n113. 3\n114. 9\n115. 7\n116. 4\n117. 4\n118. 4\n119. 9\n120. 2\n121. 5\n122. 4\n123. 7\n124. 6\n125. 7\n126. 9\n127. 0\n128. 5\n129. 8\n130. 5\n131. 6\n132. 6\n133. 5\n134. 7\n135. 8\n136. 1\n137. 0\n138. 1\n139. 6\n140. 4\n141. 6\n142. 7\n143. 3\n144. 1\n145. 7\n146. 1\n147. 8\n148. 2\n149. 0\n150. 2\n151. 9\n152. 9\n153. 5\n154. 5\n155. 1\n156. 5\n157. 6\n158. 0\n159. 3\n160. 4\n161. 4\n162. 6\n163. 5\n164. 4\n165. 6\n166. 5\n167. 4\n168. 5\n169. 1\n170. 4\n171. 4\n172. 7\n173. 2\n174. 3\n175. 2\n176. 7\n177. 1\n178. 8\n179. 1\n180. 8\n181. 1\n182. 8\n183. 5\n184. 0\n185. 8\n186. 9\n187. 2\n188. 5\n189. 0\n190. 1\n191. 1\n192. 1\n193. 0\n194. 9\n195. 0\n196. 3\n197. 1\n198. 6\n199. 4\n200. 2\n201. ⋯\n202. 0\n203. 0\n204. 1\n205. 2\n206. 3\n207. 4\n208. 7\n209. 8\n210. 9\n211. 0\n212. 1\n213. 2\n214. 3\n215. 4\n216. 5\n217. 6\n218. 7\n219. 8\n220. 0\n221. 1\n222. 2\n223. 3\n224. 4\n225. 7\n226. 8\n227. 9\n228. 0\n229. 8\n230. 3\n231. 9\n232. 5\n233. 5\n234. 2\n235. 6\n236. 8\n237. 4\n238. 1\n239. 7\n240. 1\n241. 7\n242. 3\n243. 5\n244. 6\n245. 9\n246. 1\n247. 1\n248. 1\n249. 2\n250. 1\n251. 2\n252. 0\n253. 7\n254. 7\n255. 5\n256. 8\n257. 2\n258. 9\n259. 8\n260. 6\n261. 7\n262. 3\n263. 4\n264. 6\n265. 8\n266. 7\n267. 0\n268. 4\n269. 2\n270. 7\n271. 7\n272. 5\n273. 4\n274. 3\n275. 4\n276. 2\n277. 8\n278. 1\n279. 5\n280. 1\n281. 0\n282. 2\n283. 3\n284. 3\n285. 5\n286. 7\n287. 0\n288. 6\n289. 8\n290. 6\n291. 3\n292. 9\n293. 9\n294. 8\n295. 2\n296. 7\n297. 7\n298. 1\n299. 0\n300. 1\n301. 7\n302. 8\n303. 9\n304. 0\n305. 1\n306. 3\n307. 3\n308. 4\n309. 5\n310. 6\n311. 7\n312. 8\n313. 0\n314. 1\n315. 2\n316. 3\n317. 4\n318. 7\n319. 8\n320. 9\n321. 7\n322. 8\n323. 6\n324. 4\n325. 1\n326. 9\n327. 3\n328. 8\n329. 4\n330. 4\n331. 7\n332. 0\n333. 1\n334. 9\n335. 2\n336. 8\n337. 7\n338. 8\n339. 2\n340. 6\n341. 0\n342. 4\n343. 5\n344. 3\n345. 3\n346. 8\n347. 9\n348. 1\n349. 4\n350. 0\n351. 6\n352. 1\n353. 0\n354. 0\n355. 6\n356. 2\n357. 1\n358. 1\n359. 7\n360. 7\n361. 8\n362. 4\n363. 6\n364. 0\n365. 7\n366. 0\n367. 3\n368. 6\n369. 8\n370. 7\n371. 1\n372. 5\n373. 2\n374. 4\n375. 9\n376. 4\n377. 3\n378. 6\n379. 4\n380. 1\n381. 7\n382. 3\n383. 6\n384. 6\n385. 0\n386. 1\n387. 2\n388. 3\n389. 4\n390. 5\n391. 6\n392. 7\n393. 8\n394. 9\n395. 0\n396. 1\n397. 2\n398. 3\n399. 4\n400. 5\n401. 6\n\n\n",
            "text/latex": "\\begin{enumerate*}\n\\item 7\n\\item 2\n\\item 1\n\\item 0\n\\item 4\n\\item 1\n\\item 4\n\\item 9\n\\item 6\n\\item 9\n\\item 0\n\\item 6\n\\item 9\n\\item 0\n\\item 1\n\\item 5\n\\item 9\n\\item 7\n\\item 3\n\\item 4\n\\item 9\n\\item 6\n\\item 6\n\\item 5\n\\item 4\n\\item 0\n\\item 7\n\\item 4\n\\item 0\n\\item 1\n\\item 3\n\\item 1\n\\item 3\n\\item 4\n\\item 7\n\\item 2\n\\item 7\n\\item 1\n\\item 2\n\\item 1\n\\item 1\n\\item 7\n\\item 4\n\\item 2\n\\item 3\n\\item 5\n\\item 1\n\\item 2\n\\item 4\n\\item 4\n\\item 6\n\\item 3\n\\item 5\n\\item 5\n\\item 6\n\\item 0\n\\item 4\n\\item 1\n\\item 9\n\\item 5\n\\item 7\n\\item 8\n\\item 9\n\\item 3\n\\item 7\n\\item 4\n\\item 6\n\\item 4\n\\item 3\n\\item 0\n\\item 7\n\\item 0\n\\item 2\n\\item 9\n\\item 1\n\\item 7\n\\item 3\n\\item 2\n\\item 9\n\\item 7\n\\item 7\n\\item 6\n\\item 2\n\\item 7\n\\item 8\n\\item 4\n\\item 7\n\\item 3\n\\item 6\n\\item 1\n\\item 3\n\\item 6\n\\item 9\n\\item 3\n\\item 1\n\\item 4\n\\item 1\n\\item 7\n\\item 6\n\\item 9\n\\item 6\n\\item 0\n\\item 5\n\\item 4\n\\item 9\n\\item 9\n\\item 2\n\\item 1\n\\item 9\n\\item 4\n\\item 8\n\\item 7\n\\item 3\n\\item 9\n\\item 7\n\\item 4\n\\item 4\n\\item 4\n\\item 9\n\\item 2\n\\item 5\n\\item 4\n\\item 7\n\\item 6\n\\item 7\n\\item 9\n\\item 0\n\\item 5\n\\item 8\n\\item 5\n\\item 6\n\\item 6\n\\item 5\n\\item 7\n\\item 8\n\\item 1\n\\item 0\n\\item 1\n\\item 6\n\\item 4\n\\item 6\n\\item 7\n\\item 3\n\\item 1\n\\item 7\n\\item 1\n\\item 8\n\\item 2\n\\item 0\n\\item 2\n\\item 9\n\\item 9\n\\item 5\n\\item 5\n\\item 1\n\\item 5\n\\item 6\n\\item 0\n\\item 3\n\\item 4\n\\item 4\n\\item 6\n\\item 5\n\\item 4\n\\item 6\n\\item 5\n\\item 4\n\\item 5\n\\item 1\n\\item 4\n\\item 4\n\\item 7\n\\item 2\n\\item 3\n\\item 2\n\\item 7\n\\item 1\n\\item 8\n\\item 1\n\\item 8\n\\item 1\n\\item 8\n\\item 5\n\\item 0\n\\item 8\n\\item 9\n\\item 2\n\\item 5\n\\item 0\n\\item 1\n\\item 1\n\\item 1\n\\item 0\n\\item 9\n\\item 0\n\\item 3\n\\item 1\n\\item 6\n\\item 4\n\\item 2\n\\item ⋯\n\\item 0\n\\item 0\n\\item 1\n\\item 2\n\\item 3\n\\item 4\n\\item 7\n\\item 8\n\\item 9\n\\item 0\n\\item 1\n\\item 2\n\\item 3\n\\item 4\n\\item 5\n\\item 6\n\\item 7\n\\item 8\n\\item 0\n\\item 1\n\\item 2\n\\item 3\n\\item 4\n\\item 7\n\\item 8\n\\item 9\n\\item 0\n\\item 8\n\\item 3\n\\item 9\n\\item 5\n\\item 5\n\\item 2\n\\item 6\n\\item 8\n\\item 4\n\\item 1\n\\item 7\n\\item 1\n\\item 7\n\\item 3\n\\item 5\n\\item 6\n\\item 9\n\\item 1\n\\item 1\n\\item 1\n\\item 2\n\\item 1\n\\item 2\n\\item 0\n\\item 7\n\\item 7\n\\item 5\n\\item 8\n\\item 2\n\\item 9\n\\item 8\n\\item 6\n\\item 7\n\\item 3\n\\item 4\n\\item 6\n\\item 8\n\\item 7\n\\item 0\n\\item 4\n\\item 2\n\\item 7\n\\item 7\n\\item 5\n\\item 4\n\\item 3\n\\item 4\n\\item 2\n\\item 8\n\\item 1\n\\item 5\n\\item 1\n\\item 0\n\\item 2\n\\item 3\n\\item 3\n\\item 5\n\\item 7\n\\item 0\n\\item 6\n\\item 8\n\\item 6\n\\item 3\n\\item 9\n\\item 9\n\\item 8\n\\item 2\n\\item 7\n\\item 7\n\\item 1\n\\item 0\n\\item 1\n\\item 7\n\\item 8\n\\item 9\n\\item 0\n\\item 1\n\\item 3\n\\item 3\n\\item 4\n\\item 5\n\\item 6\n\\item 7\n\\item 8\n\\item 0\n\\item 1\n\\item 2\n\\item 3\n\\item 4\n\\item 7\n\\item 8\n\\item 9\n\\item 7\n\\item 8\n\\item 6\n\\item 4\n\\item 1\n\\item 9\n\\item 3\n\\item 8\n\\item 4\n\\item 4\n\\item 7\n\\item 0\n\\item 1\n\\item 9\n\\item 2\n\\item 8\n\\item 7\n\\item 8\n\\item 2\n\\item 6\n\\item 0\n\\item 4\n\\item 5\n\\item 3\n\\item 3\n\\item 8\n\\item 9\n\\item 1\n\\item 4\n\\item 0\n\\item 6\n\\item 1\n\\item 0\n\\item 0\n\\item 6\n\\item 2\n\\item 1\n\\item 1\n\\item 7\n\\item 7\n\\item 8\n\\item 4\n\\item 6\n\\item 0\n\\item 7\n\\item 0\n\\item 3\n\\item 6\n\\item 8\n\\item 7\n\\item 1\n\\item 5\n\\item 2\n\\item 4\n\\item 9\n\\item 4\n\\item 3\n\\item 6\n\\item 4\n\\item 1\n\\item 7\n\\item 3\n\\item 6\n\\item 6\n\\item 0\n\\item 1\n\\item 2\n\\item 3\n\\item 4\n\\item 5\n\\item 6\n\\item 7\n\\item 8\n\\item 9\n\\item 0\n\\item 1\n\\item 2\n\\item 3\n\\item 4\n\\item 5\n\\item 6\n\\end{enumerate*}\n",
            "text/plain": [
              "    [1] 7 2 1 0 4 1 4 9 6 9 0 6 9 0 1 5 9 7 3 4 9 6 6 5 4 0 7 4 0 1 3 1 3 4 7 2\n",
              "   [37] 7 1 2 1 1 7 4 2 3 5 1 2 4 4 6 3 5 5 6 0 4 1 9 5 7 8 9 3 7 4 6 4 3 0 7 0\n",
              "   [73] 2 9 1 7 3 2 9 7 7 6 2 7 8 4 7 3 6 1 3 6 9 3 1 4 1 7 6 9 6 0 5 4 9 9 2 1\n",
              "  [109] 9 4 8 7 3 9 7 4 4 4 9 2 5 4 7 6 7 9 0 5 8 5 6 6 5 7 8 1 0 1 6 4 6 7 3 1\n",
              "  [145] 7 1 8 2 0 2 9 9 5 5 1 5 6 0 3 4 4 6 5 4 6 5 4 5 1 4 4 7 2 3 2 7 1 8 1 8\n",
              "  [181] 1 8 5 0 8 9 2 5 0 1 1 1 0 9 0 3 1 6 4 2 3 6 1 1 1 3 9 5 2 9 4 5 9 3 9 0\n",
              "  [217] 3 6 5 5 7 2 2 7 1 2 8 4 1 7 3 3 8 8 7 9 2 2 4 1 5 9 8 7 2 3 0 2 4 2 4 1\n",
              "  [253] 9 5 7 7 2 8 2 0 8 5 7 7 9 1 8 1 8 0 3 0 1 9 9 4 1 8 2 1 2 9 7 5 9 2 6 4\n",
              "  [289] 1 5 8 2 9 2 0 4 0 0 2 8 4 7 1 2 4 0 2 7 4 3 3 0 0 3 1 9 6 5 2 5 9 7 9 3\n",
              "  [325] 0 4 2 0 7 1 1 2 1 5 3 3 9 7 8 6 3 6 1 3 8 1 0 5 1 3 1 5 5 6 1 8 5 1 7 9\n",
              "  [361] 4 6 2 2 5 0 6 5 6 3 7 2 0 8 8 5 4 1 1 4 0 3 3 7 6 1 6 2 1 9 2 8 6 1 9 5\n",
              "  [397] 2 5 4 4 2 8 3 8 2 4 5 0 3 1 7 7 5 7 9 7 1 9 2 1 4 2 9 2 0 4 9 1 4 8 1 8\n",
              "  [433] 4 5 9 8 8 3 7 6 0 0 3 0 2 0 6 4 9 3 3 3 2 3 9 1 2 6 8 0 5 6 6 6 3 8 8 2\n",
              "  [469] 7 5 8 9 6 1 8 4 1 2 5 9 1 9 7 5 4 0 8 9 9 1 0 5 2 3 7 0 9 4 0 6 3 9 5 2\n",
              "  [505] 1 3 1 3 6 5 7 4 2 2 6 3 2 6 5 4 8 9 3 1 3 0 3 8 3 1 9 3 4 4 6 4 2 1 8 2\n",
              "  [541] 5 4 8 8 4 0 0 2 3 2 7 7 0 8 7 4 4 7 9 6 9 0 9 8 0 9 6 0 6 3 5 4 8 3 3 9\n",
              "  [577] 3 3 7 7 8 0 2 2 1 7 0 6 5 4 3 8 0 9 6 3 8 0 9 9 6 8 6 8 5 7 8 6 0 2 4 0\n",
              "  [613] 2 2 3 1 9 7 5 8 0 8 4 6 2 6 7 9 3 2 9 8 2 2 9 2 7 3 5 9 1 8 0 2 0 5 2 1\n",
              "  [649] 3 7 6 7 1 2 5 8 0 3 7 1 4 0 9 1 8 6 7 7 4 3 4 9 1 9 5 1 7 3 9 7 6 9 1 3\n",
              "  [685] 3 8 3 3 6 7 2 4 5 8 5 1 1 4 4 3 1 0 7 7 0 7 9 4 4 8 5 5 4 0 8 2 1 6 8 4\n",
              "  [721] 8 0 4 0 6 1 7 3 2 6 7 2 6 9 3 1 4 6 2 5 9 2 0 6 2 1 7 3 4 1 0 5 4 3 1 1\n",
              "  [757] 7 4 9 9 9 8 4 0 2 4 5 1 1 6 4 7 1 9 4 2 4 1 5 5 3 8 3 1 4 5 5 8 9 4 1 5\n",
              "  [793] 3 8 0 3 2 5 1 2 8 3 4 4 0 8 8 3 3 1 7 3 5 9 6 3 2 6 1 3 6 0 7 2 1 7 1 4\n",
              "  [829] 2 4 2 1 7 9 6 1 1 2 4 8 1 7 7 4 7 0 7 3 1 3 1 0 7 7 0 3 5 5 2 7 6 6 9 2\n",
              "  [865] 8 3 5 2 2 5 6 0 8 2 9 2 8 8 8 8 7 9 9 3 0 6 6 3 2 1 3 2 2 9 3 0 0 5 7 8\n",
              "  [901] 1 4 4 6 0 2 9 1 4 7 4 7 3 9 8 8 4 7 1 2 1 2 2 3 2 3 2 3 9 1 7 4 0 3 5 5\n",
              "  [937] 8 6 3 2 6 7 6 6 3 2 7 9 1 1 7 4 6 4 9 5 1 3 3 9 7 8 9 1 1 0 9 1 4 4 5 4\n",
              "  [973] 0 6 2 2 3 1 5 1 2 0 3 8 1 2 6 7 1 6 2 3 9 0 1 2 2 0 8 9 9 0 2 3 1 9 7 8\n",
              " [1009] 1 0 4 1 7 9 5 4 2 6 8 1 3 7 5 4 4 1 8 1 3 8 1 2 8 8 0 6 2 1 1 1 1 5 3 4\n",
              " [1045] 2 9 5 0 9 2 2 4 8 2 1 7 2 4 9 4 4 0 3 9 2 2 3 3 8 3 5 7 3 5 8 1 2 4 4 6\n",
              " [1081] 4 9 5 1 0 6 9 5 9 5 9 7 3 8 0 3 7 1 3 6 7 8 5 9 7 9 6 3 6 3 7 4 6 5 3 5\n",
              " [1117] 4 7 8 7 8 0 7 6 8 8 7 3 7 1 9 5 2 7 3 5 1 1 2 1 4 7 4 7 5 4 5 4 0 8 3 6\n",
              " [1153] 9 6 0 2 7 4 4 4 4 6 6 4 7 9 3 4 5 5 8 7 3 7 2 7 0 2 4 1 1 1 8 9 2 8 7 2\n",
              " [1189] 0 1 5 7 9 1 9 0 6 0 8 6 8 1 8 0 3 3 7 2 3 6 2 1 6 1 1 3 7 9 0 8 0 5 4 0\n",
              " [1225] 2 8 2 2 9 8 4 0 4 5 8 5 1 2 1 3 1 7 4 5 7 2 0 5 8 8 6 2 5 4 1 9 2 1 5 8\n",
              " [1261] 1 0 2 4 4 3 6 8 8 2 4 0 5 0 4 4 7 9 3 4 1 5 9 7 3 5 8 8 0 5 3 3 6 6 0 1\n",
              " [1297] 6 0 3 7 4 4 1 2 9 1 4 6 9 9 3 9 8 4 4 3 1 3 1 3 8 7 9 4 8 8 1 9 7 1 4 5\n",
              " [1333] 6 0 5 2 2 6 1 5 5 2 4 9 6 2 7 7 2 2 1 1 2 8 3 7 2 4 1 7 1 7 6 7 8 2 7 3\n",
              " [1369] 1 7 5 8 2 6 2 2 5 6 6 0 9 2 4 3 3 9 7 6 6 8 0 4 1 3 8 2 9 1 8 0 6 7 2 1\n",
              " [1405] 0 5 5 2 0 2 2 0 2 4 9 8 0 9 9 4 6 5 4 9 1 8 3 4 9 9 1 2 2 8 1 9 6 4 0 9\n",
              " [1441] 4 8 3 8 6 0 2 5 1 9 6 2 9 4 0 9 6 0 6 2 5 4 2 3 8 4 5 5 9 3 8 5 3 5 8 6\n",
              " [1477] 5 7 6 3 3 9 6 1 1 2 9 0 4 3 3 6 9 5 7 3 7 7 7 8 1 9 8 3 0 7 2 7 9 4 5 4\n",
              " [1513] 9 3 2 1 4 0 2 3 7 5 9 8 8 5 0 1 1 4 7 3 9 0 0 0 6 6 2 3 7 8 4 7 7 9 2 4\n",
              " [1549] 1 6 5 2 4 3 9 1 8 4 0 9 8 4 8 7 7 0 7 8 8 6 0 4 8 8 2 4 7 6 6 6 4 7 1 8\n",
              " [1585] 8 2 3 6 3 0 0 3 7 6 9 7 9 9 5 4 3 7 6 1 2 3 7 3 3 6 0 3 3 8 4 3 6 3 5 0\n",
              " [1621] 2 0 9 0 7 4 6 9 3 5 1 9 6 1 4 5 4 5 0 5 9 5 2 1 2 9 1 9 9 4 0 8 4 5 2 9\n",
              " [1657] 2 1 2 1 7 3 6 8 8 4 9 1 9 8 5 3 5 1 1 8 6 5 2 4 4 7 2 3 5 6 8 8 6 2 3 1\n",
              " [1693] 0 5 8 9 2 9 6 7 0 4 8 7 1 7 4 1 0 3 7 2 0 0 9 1 7 0 7 8 4 7 2 0 4 6 0 3\n",
              " [1729] 1 1 3 3 9 6 7 4 1 5 3 0 8 7 3 9 6 9 3 5 0 2 7 4 5 1 3 5 8 0 8 8 1 5 0 3\n",
              " [1765] 0 3 1 4 0 3 7 2 7 6 8 0 7 0 4 3 1 9 8 7 7 1 4 9 9 3 8 1 7 9 0 2 0 3 3 7\n",
              " [1801] 2 9 2 3 3 7 7 0 0 7 5 2 9 8 7 4 4 2 6 6 1 9 6 8 2 9 0 8 3 1 1 6 3 5 1 1\n",
              " [1837] 1 3 1 2 3 0 2 0 1 3 5 5 7 4 8 9 6 9 6 8 3 6 6 8 5 1 4 2 4 4 5 1 1 9 0 2\n",
              " [1873] 4 9 5 7 1 8 3 5 6 9 8 7 1 1 6 7 6 3 2 2 0 8 9 2 5 1 0 8 1 4 5 7 9 6 9 0\n",
              " [1909] 6 1 5 5 8 3 8 2 6 5 0 7 4 6 1 3 4 7 3 2 3 4 2 5 2 7 1 7 2 6 4 1 5 7 8 6\n",
              " [1945] 0 1 8 2 5 7 7 6 3 3 5 8 4 2 4 0 8 8 3 4 9 2 7 5 8 6 5 6 0 3 6 7 3 6 4 9\n",
              " [1981] 4 6 6 3 0 4 1 9 1 4 6 2 9 1 1 0 6 3 9 5 6 5 6 5 3 4 6 4 3 9 1 3 4 1 9 1\n",
              " [2017] 2 1 1 9 3 5 4 0 9 3 6 1 7 5 5 3 3 4 1 3 7 5 8 6 5 1 0 4 7 3 4 6 7 9 8 1\n",
              " [2053] 8 9 9 2 8 6 2 7 0 0 6 7 5 8 6 0 9 3 9 1 3 5 4 3 3 5 5 6 3 0 2 3 4 2 3 0\n",
              " [2089] 9 9 4 7 2 1 4 7 0 6 0 8 5 2 8 5 7 3 0 8 2 7 2 8 2 5 5 7 6 4 4 8 4 8 2 7\n",
              " [2125] 4 5 2 0 3 9 9 6 7 2 5 1 1 1 2 3 6 7 8 7 6 4 8 9 4 8 6 3 8 3 1 0 6 2 2 5\n",
              " [2161] 6 9 5 8 1 4 1 7 8 4 6 1 8 4 3 1 2 8 0 8 5 9 2 4 2 0 2 7 0 9 0 2 5 7 6 7\n",
              " [2197] 9 4 2 6 2 4 4 8 0 4 4 5 8 0 6 8 9 8 5 6 9 0 4 8 7 1 3 4 5 8 0 9 1 3 3 6\n",
              " [2233] 9 8 7 1 0 5 7 1 7 5 2 7 9 1 8 5 2 4 9 4 7 2 2 3 4 9 1 9 2 1 7 9 4 4 1 6\n",
              " [2269] 7 2 7 8 0 1 9 7 1 1 7 5 3 3 5 1 3 7 6 1 3 8 7 5 9 9 0 0 2 8 8 7 3 7 1 3\n",
              " [2305] 0 3 4 4 3 8 9 2 3 9 7 1 1 7 0 4 9 6 5 9 1 7 5 2 0 2 4 6 7 0 7 1 4 6 4 5\n",
              " [2341] 4 9 9 1 7 9 5 3 3 8 2 3 6 2 2 1 1 1 1 1 6 9 8 4 3 7 1 6 4 9 0 9 7 4 2 4\n",
              " [2377] 0 7 0 1 9 8 8 6 0 0 4 1 6 8 2 2 3 8 4 3 2 2 1 7 5 4 4 0 4 3 1 7 3 1 0 1\n",
              " [2413] 2 5 9 2 1 0 1 8 9 1 7 8 3 8 9 3 6 2 8 3 2 1 1 0 4 2 9 2 4 3 7 9 1 5 2 4\n",
              " [2449] 9 0 3 8 5 3 8 0 9 4 6 2 5 0 2 7 4 6 6 8 6 6 8 6 9 1 7 2 5 9 9 0 7 2 7 6\n",
              " [2485] 7 0 6 5 4 4 7 2 0 9 9 2 2 9 4 4 2 3 3 2 1 7 0 7 6 4 1 3 8 7 4 5 9 2 5 1\n",
              " [2521] 8 7 3 7 1 5 5 0 9 1 4 0 6 3 3 6 0 4 9 7 5 1 6 8 9 5 5 7 9 3 8 3 8 1 5 3\n",
              " [2557] 5 0 5 3 3 8 6 7 7 7 3 7 0 5 9 0 2 5 5 3 1 7 7 8 6 5 9 3 8 9 5 3 7 9 1 7\n",
              " [2593] 0 0 3 7 2 5 8 1 8 6 2 9 3 7 5 1 8 6 2 5 1 4 8 4 5 8 3 0 6 2 7 3 3 2 1 0\n",
              " [2629] 7 3 9 0 3 9 3 2 8 9 0 3 8 0 7 6 5 4 7 3 5 0 8 6 2 5 1 1 0 0 4 4 0 1 2 3\n",
              " [2665] 2 7 7 8 5 2 5 7 6 9 1 4 1 6 4 2 4 3 5 4 3 9 5 0 1 5 3 8 9 1 9 7 9 5 5 2\n",
              " [2701] 7 4 6 0 1 1 1 0 4 4 7 6 3 0 0 4 3 0 6 1 4 6 1 3 8 1 2 5 6 2 7 3 6 0 1 9\n",
              " [2737] 7 6 6 8 9 2 9 5 8 3 1 0 0 7 6 6 2 1 6 9 3 1 8 6 9 0 6 0 0 0 6 3 5 9 3 4\n",
              " [2773] 5 5 8 5 3 0 4 0 2 9 6 8 2 3 1 2 1 1 5 6 9 8 0 6 6 5 5 3 8 6 2 1 4 5 4 3\n",
              " [2809] 7 8 3 0 9 3 5 1 1 0 4 4 7 0 1 7 0 1 6 1 4 5 6 6 5 7 8 4 4 7 2 5 3 7 0 7\n",
              " [2845] 7 9 6 4 2 8 5 7 8 3 9 5 8 9 9 8 6 2 8 9 2 3 6 1 1 8 9 3 4 0 7 9 6 7 1 4\n",
              " [2881] 1 3 4 9 3 1 4 7 7 4 7 2 9 3 0 8 0 8 4 0 4 4 1 5 2 8 3 4 9 5 2 8 1 5 3 3\n",
              " [2917] 9 4 2 5 6 3 5 9 3 5 9 3 1 9 5 3 0 6 9 8 4 0 4 7 2 9 0 1 0 3 1 6 5 8 1 5\n",
              " [2953] 3 5 0 3 5 5 9 2 8 7 0 4 9 1 9 7 7 5 5 2 0 9 1 8 6 2 3 9 6 2 1 9 1 3 5 5\n",
              " [2989] 0 3 8 3 3 7 6 8 0 1 4 0 6 9 8 1 2 1 9 5 9 7 3 7 8 0 1 3 0 4 6 1 0 2 5 8\n",
              " [3025] 4 4 1 1 5 4 6 6 0 6 9 2 6 2 7 1 7 9 4 0 0 3 8 2 2 3 1 6 0 5 7 7 9 2 6 7\n",
              " [3061] 7 7 8 6 8 8 4 6 8 4 1 2 8 2 3 9 4 0 3 7 3 2 3 3 7 3 4 0 6 2 0 8 1 5 3 5\n",
              " [3097] 4 1 7 1 5 7 5 7 3 2 2 7 3 7 3 7 8 5 4 5 2 9 6 5 3 6 7 4 1 7 1 5 2 3 6 3\n",
              " [3133] 1 4 2 6 7 4 3 8 0 6 2 1 6 5 3 9 1 9 3 2 1 8 4 4 6 5 8 6 9 7 7 8 6 9 7 3\n",
              " [3169] 9 4 0 5 4 6 4 1 2 3 0 0 2 6 6 5 7 0 8 6 4 7 9 0 7 3 4 2 1 8 8 5 9 2 7 1\n",
              " [3205] 8 8 3 2 7 6 0 1 2 7 1 0 8 3 6 0 5 3 6 2 8 7 0 1 4 2 1 1 4 4 4 4 7 1 6 2\n",
              " [3241] 9 9 0 0 1 8 8 4 3 4 2 9 6 1 6 1 2 2 2 1 2 3 7 8 1 0 0 2 1 6 6 0 1 6 2 5\n",
              " [3277] 1 7 4 8 2 1 4 3 7 3 9 9 4 3 3 4 7 2 7 5 7 0 4 3 3 2 6 7 6 0 0 6 7 7 0 5\n",
              " [3313] 5 8 1 0 7 0 2 8 1 5 0 8 8 0 3 2 7 7 2 6 4 7 5 5 5 2 9 2 8 4 6 8 6 5 0 0\n",
              " [3349] 8 7 6 1 7 1 1 2 7 4 0 0 7 7 6 3 8 6 4 2 0 9 4 0 5 7 8 2 9 4 7 1 1 3 6 6\n",
              " [3385] 2 9 1 9 4 8 3 6 9 5 9 6 2 4 6 7 7 0 6 6 9 9 8 3 5 3 4 9 0 0 5 2 5 0 7 1\n",
              " [3421] 1 1 0 7 6 7 9 6 6 4 1 4 3 1 1 2 2 4 1 0 8 7 6 3 4 0 0 6 3 3 0 7 1 7 1 1\n",
              " [3457] 3 1 0 9 9 7 5 4 1 4 8 9 5 3 5 1 9 8 2 3 3 9 9 0 1 0 2 9 3 9 3 3 6 2 9 9\n",
              " [3493] 8 3 7 4 0 4 7 8 4 9 8 1 9 7 5 9 2 8 2 2 0 2 2 3 8 4 6 8 4 8 2 4 6 7 9 3\n",
              " [3529] 3 9 4 3 1 5 4 7 0 5 9 6 0 4 4 4 4 6 1 2 3 3 6 4 5 9 6 8 5 6 5 8 6 4 1 8\n",
              " [3565] 6 5 2 5 4 5 5 4 7 7 7 7 8 2 2 3 7 0 1 8 0 7 1 9 8 7 5 5 9 1 7 5 4 3 1 2\n",
              " [3601] 2 1 6 6 7 1 1 4 0 7 4 2 4 0 6 4 7 6 9 5 3 4 6 5 0 1 8 8 2 3 3 5 7 8 0 8\n",
              " [3637] 5 7 1 1 0 1 3 7 8 5 0 7 1 1 0 1 1 4 5 2 7 6 2 3 0 2 8 5 9 6 9 7 2 1 3 6\n",
              " [3673] 4 1 3 2 4 0 5 1 0 3 2 6 4 4 3 9 6 1 6 5 7 9 2 0 2 6 0 1 4 3 3 2 8 8 0 8\n",
              " [3709] 8 9 0 9 6 7 6 3 3 3 9 7 7 7 4 9 0 6 4 8 4 2 7 2 8 1 0 0 7 8 3 3 3 1 3 7\n",
              " [3745] 6 1 3 1 6 6 5 7 4 7 5 9 5 3 4 9 9 1 6 5 7 1 3 7 0 3 4 8 2 2 0 2 8 1 5 1\n",
              " [3781] 6 8 8 9 1 2 1 3 5 1 0 9 4 4 8 3 8 5 9 7 6 6 2 0 0 0 5 8 3 1 5 3 3 8 5 1\n",
              " [3817] 8 3 4 4 9 9 6 2 3 3 5 6 4 8 0 9 2 8 3 6 7 5 1 2 9 4 9 1 2 8 6 0 7 0 9 1\n",
              " [3853] 1 2 7 5 9 9 1 9 5 9 2 5 0 4 1 0 8 4 0 8 9 8 9 4 2 5 7 9 8 9 8 0 9 9 6 8\n",
              " [3889] 9 9 5 9 8 5 1 0 3 3 5 2 1 6 3 0 2 8 3 5 6 2 3 0 2 2 6 4 3 5 5 1 7 2 1 6\n",
              " [3925] 9 1 3 9 5 5 1 6 2 2 8 6 7 1 4 6 0 6 0 3 3 2 8 3 6 8 9 8 5 3 8 5 4 5 2 0\n",
              " [3961] 5 6 3 2 8 3 9 9 5 7 9 4 6 7 1 3 7 3 6 6 0 9 0 1 9 4 2 8 8 0 1 6 9 7 5 3\n",
              " [3997] 4 7 4 9 9 4 3 6 3 1 1 7 6 9 1 8 4 1 1 9 9 4 3 6 8 1 6 0 4 1 3 9 7 4 9 5\n",
              " [4033] 1 0 0 1 1 6 2 1 9 8 4 0 3 6 4 9 0 7 1 6 5 7 5 2 5 1 8 5 4 7 0 5 7 9 2 5\n",
              " [4069] 8 1 0 4 5 7 1 3 5 1 9 0 0 6 0 7 3 1 8 3 9 7 0 0 8 9 5 9 8 3 2 7 2 9 7 2\n",
              " [4105] 1 1 3 7 5 3 1 9 8 2 2 2 8 8 5 7 3 8 9 8 8 6 8 2 3 9 7 5 6 2 9 2 8 8 1 6\n",
              " [4141] 8 8 7 9 1 8 0 1 7 2 0 7 5 1 9 0 3 0 9 8 6 2 3 5 3 8 0 2 1 1 1 1 4 2 9 7\n",
              " [4177] 7 5 1 1 2 1 9 9 9 1 0 2 0 2 1 1 4 6 4 1 5 4 9 9 7 1 5 6 2 2 2 8 0 6 9 6\n",
              " [4213] 1 9 7 7 1 4 8 5 3 4 3 4 7 7 5 0 7 4 8 8 1 5 3 9 5 9 7 6 9 0 3 6 3 9 8 2\n",
              " [4249] 8 1 2 8 6 8 5 5 3 9 4 9 2 5 1 5 1 4 4 1 4 4 3 3 9 1 2 2 3 3 0 2 9 0 0 9\n",
              " [4285] 9 6 0 9 3 7 8 4 1 9 5 7 2 7 9 9 5 9 5 1 1 8 3 5 1 9 5 3 5 4 9 5 9 3 1 9\n",
              " [4321] 0 9 7 5 4 9 2 0 1 0 5 1 4 9 3 3 6 1 5 2 5 2 2 0 9 2 6 6 0 1 2 0 3 0 2 3\n",
              " [4357] 5 7 9 5 3 0 8 9 5 0 3 2 5 4 0 8 8 4 5 8 8 4 5 4 8 5 4 9 2 2 1 2 6 8 8 7\n",
              " [4393] 0 3 6 6 4 3 8 8 7 2 2 0 0 9 3 9 9 1 9 8 6 6 4 2 6 9 2 4 5 4 5 7 9 9 9 2\n",
              " [4429] 1 8 3 4 0 3 8 3 9 3 4 6 5 6 2 3 9 2 6 0 0 6 1 2 8 7 9 8 2 0 4 7 7 5 0 5\n",
              " [4465] 6 4 6 7 4 3 0 7 5 0 7 4 2 6 8 9 9 4 2 4 6 7 8 7 6 9 4 1 3 7 3 0 8 7 7 6\n",
              " [4501] 9 3 9 2 2 9 2 1 8 3 2 9 6 8 4 0 1 2 8 4 5 2 7 8 1 1 3 0 3 5 7 0 3 1 9 3\n",
              " [4537] 5 3 1 7 7 3 0 8 4 8 2 2 5 2 9 7 3 9 0 9 9 6 4 2 9 7 2 1 1 6 7 9 7 5 9 6\n",
              " [4573] 8 2 1 4 4 5 7 6 1 3 2 5 9 9 3 6 1 1 4 6 9 7 2 1 5 1 4 6 3 8 1 1 0 3 1 6\n",
              " [4609] 8 4 9 0 7 3 0 4 9 0 6 6 6 3 6 7 7 2 8 6 0 8 3 0 2 9 8 3 2 5 3 8 8 0 0 1\n",
              " [4645] 9 5 1 3 9 6 0 1 4 1 7 1 2 3 7 9 7 4 9 9 3 9 2 8 2 7 1 8 0 9 1 0 1 7 7 9\n",
              " [4681] 6 9 9 9 2 1 6 1 3 5 7 1 9 7 6 4 5 7 6 6 9 9 6 3 6 2 9 8 1 2 2 5 5 2 3 7\n",
              " [4717] 2 1 0 1 0 4 5 2 8 2 8 3 5 1 7 8 1 1 2 9 7 8 4 0 3 0 7 8 8 4 7 7 8 5 8 4\n",
              " [4753] 9 8 1 3 8 0 3 1 7 9 5 5 1 6 5 7 4 9 3 5 4 7 1 2 0 8 1 6 0 7 3 4 7 3 9 6\n",
              " [4789] 0 8 6 4 8 7 7 9 3 8 6 9 7 2 3 4 0 2 1 3 3 5 5 7 2 4 4 7 2 8 3 0 8 7 8 9\n",
              " [4825] 0 8 4 4 5 8 5 6 6 3 0 9 3 7 6 8 9 3 4 9 5 8 9 1 2 8 8 6 8 1 3 7 9 0 1 1\n",
              " [4861] 9 7 0 8 1 7 4 5 7 1 2 1 1 3 9 6 2 1 2 8 8 7 6 6 9 3 1 0 5 2 8 0 5 4 3 8\n",
              " [4897] 4 6 6 2 7 9 5 1 3 2 4 3 6 1 9 4 4 7 6 5 4 1 9 9 2 7 8 0 1 3 6 1 3 4 1 1\n",
              " [4933] 1 5 6 0 7 0 7 2 3 2 5 2 2 9 4 9 8 1 2 1 6 1 2 7 4 0 0 0 8 2 2 9 2 2 7 9\n",
              " [4969] 9 2 7 5 1 3 4 9 4 1 8 5 6 2 8 3 1 2 8 4 9 9 3 7 0 7 7 2 3 2 4 0 3 9 9 8\n",
              " [5005] 4 1 0 6 0 9 6 8 6 1 1 9 8 9 2 3 5 5 9 4 2 1 9 4 3 9 6 0 4 0 6 0 1 2 3 4\n",
              " [5041] 7 8 9 0 1 2 3 4 7 8 9 0 1 2 3 4 5 6 7 8 9 8 3 4 7 8 6 3 4 0 9 7 1 9 3 8\n",
              " [5077] 4 7 3 0 9 1 4 5 4 6 2 0 6 2 1 1 1 1 7 2 4 7 5 2 9 4 5 8 4 2 9 7 0 0 7 5\n",
              " [5113] 1 1 7 6 6 6 8 2 2 7 7 4 0 2 4 2 1 8 9 6 1 0 5 9 6 9 8 0 3 0 8 3 9 6 3 0\n",
              " [5149] 1 2 3 4 5 6 7 0 1 2 3 4 5 6 7 8 9 5 1 2 3 4 5 6 7 8 5 4 8 7 4 7 7 3 9 8\n",
              " [5185] 8 3 1 5 8 2 7 4 2 1 5 4 5 5 8 6 4 4 4 1 8 7 5 5 1 8 9 1 3 6 3 3 2 2 6 9\n",
              " [5221] 9 6 5 5 3 3 8 1 6 5 6 8 1 9 7 6 8 3 7 4 7 0 9 0 0 3 7 9 3 0 2 0 1 0 1 0\n",
              " [5257] 4 0 1 0 4 7 9 6 2 6 2 2 9 9 0 1 2 3 4 5 6 7 8 9 0 1 2 3 4 5 6 7 8 9 0 1\n",
              " [5293] 2 3 4 5 6 7 8 9 8 0 5 6 6 0 8 0 2 3 7 9 4 7 1 9 1 7 1 4 0 0 4 1 7 5 7 1\n",
              " [5329] 3 3 3 6 6 9 7 4 3 0 2 5 2 6 0 8 9 4 3 5 4 8 1 5 9 0 6 4 3 6 3 3 8 1 4 7\n",
              " [5365] 5 7 2 2 0 0 1 7 7 9 5 9 8 9 6 8 8 2 3 6 1 2 9 8 9 5 2 6 2 4 8 4 6 5 0 1\n",
              " [5401] 5 6 7 8 9 0 1 2 3 4 5 6 7 8 9 0 1 2 3 4 5 6 7 8 9 7 4 2 0 9 0 1 5 8 8 0\n",
              " [5437] 2 7 8 4 4 6 1 0 4 5 3 9 4 2 0 5 0 1 3 2 9 8 6 0 1 1 8 0 4 7 7 6 3 6 0 7\n",
              " [5473] 3 5 4 2 4 1 8 3 5 6 7 0 6 7 1 2 5 8 1 9 3 8 2 3 7 6 7 1 4 6 2 9 3 0 1 2\n",
              " [5509] 3 4 5 6 7 0 1 2 3 4 5 0 1 2 8 9 1 4 0 9 5 0 8 0 7 7 1 1 2 9 3 6 7 2 3 8\n",
              " [5545] 1 2 9 8 8 7 1 7 1 1 0 3 4 2 6 4 7 4 2 7 4 9 1 0 6 8 5 5 5 3 5 9 7 4 8 5\n",
              " [5581] 9 6 9 3 0 3 8 9 1 8 1 6 0 0 1 2 3 4 5 6 9 8 9 0 1 2 3 4 5 6 7 8 9 0 1 2\n",
              " [5617] 3 4 5 6 7 8 9 3 5 3 2 9 3 2 1 4 5 5 3 3 2 1 3 9 7 2 8 2 8 9 1 8 8 7 8 1\n",
              " [5653] 0 0 7 7 8 7 5 0 6 1 5 7 4 6 1 2 5 0 7 9 9 0 3 8 3 4 8 1 8 6 5 9 0 0 0 3\n",
              " [5689] 7 1 6 4 2 6 6 0 4 5 4 1 3 8 6 3 9 9 5 9 3 7 8 5 6 4 7 6 2 2 0 9 4 0 1 2\n",
              " [5725] 3 4 5 6 7 8 9 0 1 2 7 5 6 0 1 2 3 4 5 6 8 7 1 3 2 6 0 7 5 9 9 6 0 9 4 1\n",
              " [5761] 3 2 1 2 3 8 3 2 6 5 6 8 2 7 4 8 1 8 0 5 3 9 4 1 9 2 1 9 6 7 9 0 4 6 1 7\n",
              " [5797] 3 8 7 2 9 6 5 8 3 9 0 5 7 1 6 1 0 9 3 3 4 4 0 6 2 5 4 2 3 4 6 0 0 2 0 1\n",
              " [5833] 4 5 6 9 8 9 0 1 2 3 7 5 6 7 8 0 1 2 3 4 5 6 7 8 9 8 7 1 3 7 5 2 8 0 7 5\n",
              " [5869] 9 9 0 9 1 1 5 8 8 6 3 2 1 8 3 2 6 5 6 7 4 1 0 3 3 1 9 2 1 9 6 0 4 6 1 7\n",
              " [5905] 3 8 7 2 9 6 5 8 3 3 7 1 6 1 0 9 6 2 5 4 2 3 9 4 6 0 0 2 0 1 2 3 9 3 6 7\n",
              " [5941] 8 9 0 1 2 3 4 5 6 7 8 9 0 1 2 8 4 5 6 7 8 9 8 6 5 0 6 8 9 4 1 9 3 8 0 9\n",
              " [5977] 8 9 1 4 0 5 5 2 1 5 4 0 7 6 0 1 7 0 6 8 9 5 1 7 9 8 6 0 8 1 7 7 1 3 2 3\n",
              " [6013] 1 4 2 5 0 7 8 4 6 4 9 3 8 4 7 2 5 6 3 6 9 6 3 2 2 4 6 9 0 2 5 5 1 9 3 9\n",
              " [6049] 7 8 7 2 2 5 7 9 8 2 1 9 1 3 0 1 2 3 4 5 6 7 8 3 0 1 2 3 4 5 6 7 8 9 0 1\n",
              " [6085] 2 3 4 5 6 7 8 9 1 2 6 5 3 0 7 0 4 1 4 3 6 7 2 3 1 2 1 2 9 6 0 1 3 0 2 7\n",
              " [6121] 5 7 6 2 9 1 9 0 6 0 6 0 2 0 6 1 5 8 4 3 0 1 5 4 4 8 5 7 5 7 8 3 4 8 8 5\n",
              " [6157] 2 9 7 1 3 8 1 0 7 5 3 6 3 4 7 7 9 9 3 4 4 3 8 6 2 0 1 2 3 4 5 6 7 8 9 0\n",
              " [6193] 1 2 3 4 5 6 7 8 9 0 1 2 3 4 5 6 7 8 9 0 8 3 9 5 5 2 6 8 4 9 1 7 1 2 3 5\n",
              " [6229] 9 6 9 1 1 1 2 9 5 6 8 1 2 0 7 7 5 8 2 9 8 9 0 4 6 7 1 3 4 5 6 0 3 6 8 7\n",
              " [6265] 0 4 2 7 4 7 5 4 3 4 2 8 1 5 1 2 0 2 5 6 4 3 0 0 0 3 3 5 7 0 6 4 8 8 6 3\n",
              " [6301] 4 6 9 9 8 2 7 7 1 0 1 2 3 4 5 6 7 8 9 0 1 2 3 4 5 6 7 8 0 1 2 3 4 5 6 7\n",
              " [6337] 8 2 1 7 2 5 0 8 0 2 7 8 8 3 6 0 2 7 6 6 1 2 8 8 7 7 4 7 7 3 7 4 5 4 3 3\n",
              " [6373] 8 4 1 1 9 7 4 3 7 3 3 0 2 5 5 6 6 3 5 6 5 9 9 8 4 1 0 6 0 9 6 8 8 5 6 1\n",
              " [6409] 1 9 8 9 2 3 5 5 9 4 2 1 9 3 9 2 0 6 0 4 0 0 1 2 3 4 7 8 9 0 1 2 3 7 8 9\n",
              " [6445] 0 1 2 3 4 7 8 9 7 3 0 3 1 8 7 6 4 0 2 6 8 3 2 8 1 2 0 7 1 0 4 4 5 8 0 6\n",
              " [6481] 2 3 1 5 1 8 5 9 4 0 7 5 8 8 3 8 9 2 6 2 5 3 1 7 3 9 1 9 9 6 0 3 9 2 8 1\n",
              " [6517] 4 3 5 2 9 2 5 8 9 5 0 1 2 4 5 6 7 1 2 3 4 5 6 7 1 2 3 4 5 1 0 4 5 6 6 3\n",
              " [6553] 4 4 2 9 1 0 6 4 9 7 2 3 3 9 2 0 9 3 3 7 1 5 6 3 1 7 8 4 0 2 4 0 2 4 7 8\n",
              " [6589] 0 7 0 6 9 3 2 8 6 7 3 7 5 1 0 8 1 6 7 2 9 7 9 5 8 6 2 6 2 8 1 7 5 0 1 1\n",
              " [6625] 3 8 4 9 1 8 6 8 9 0 1 2 3 4 5 6 7 8 9 0 1 2 3 4 7 8 9 4 1 7 8 9 9 8 9 8\n",
              " [6661] 4 1 7 7 3 3 7 6 6 6 1 9 0 1 7 6 3 2 1 7 1 3 9 1 7 6 8 4 1 4 3 6 9 6 1 4\n",
              " [6697] 4 7 2 4 4 0 1 2 3 4 5 6 7 8 9 0 1 2 3 4 5 6 9 0 1 2 3 4 7 8 1 3 5 1 7 7\n",
              " [6733] 2 1 4 8 3 4 4 3 9 7 4 1 8 3 5 9 1 6 0 1 0 0 2 3 7 1 1 4 0 4 7 3 6 8 0 3\n",
              " [6769] 7 4 0 6 9 2 6 5 8 6 9 0 4 0 6 6 9 2 0 9 5 1 3 7 6 9 3 0 2 2 0 1 2 3 4 5\n",
              " [6805] 6 7 8 9 0 1 2 3 4 5 6 7 8 9 0 1 2 3 4 5 6 7 8 9 2 1 7 2 5 0 8 0 2 7 8 8\n",
              " [6841] 3 0 6 0 2 7 6 4 1 2 8 8 7 7 4 7 7 3 7 4 5 4 3 3 8 4 5 4 1 1 9 7 4 3 7 3\n",
              " [6877] 3 0 2 5 5 6 3 1 5 2 5 9 9 8 4 1 0 6 0 9 6 8 8 5 6 1 1 9 8 9 2 3 5 5 9 4\n",
              " [6913] 2 1 9 4 9 1 3 9 2 0 6 0 4 0 6 0 1 2 3 4 5 6 7 8 9 0 1 2 3 4 5 6 7 9 9 0\n",
              " [6949] 1 2 3 4 5 6 7 8 9 3 8 0 7 1 0 7 5 5 6 9 0 1 0 0 8 3 4 3 1 5 0 0 9 5 3 4\n",
              " [6985] 9 3 7 6 9 2 4 5 7 2 6 4 9 4 9 4 1 2 2 5 8 1 3 2 9 4 3 8 2 2 1 2 8 6 5 1\n",
              " [7021] 6 7 2 1 3 9 3 8 7 5 7 0 7 4 8 8 5 0 6 6 3 7 6 9 9 4 8 4 1 6 6 6 0 1 2 3\n",
              " [7057] 4 5 6 7 8 9 0 1 2 3 4 5 6 7 8 9 0 1 2 3 4 5 6 7 8 9 7 4 0 4 0 1 7 9 5 1\n",
              " [7093] 4 2 8 9 4 3 7 8 2 4 4 3 3 6 9 9 5 8 6 7 0 6 8 2 6 3 9 3 2 8 6 1 7 4 8 8\n",
              " [7129] 9 0 3 3 9 0 5 2 9 4 1 0 3 7 5 8 7 7 8 2 9 7 1 2 6 4 7 5 2 3 6 6 5 0 0 2\n",
              " [7165] 8 1 6 1 0 4 3 1 6 1 9 0 1 4 5 6 7 8 9 1 2 3 4 5 6 7 0 1 2 3 4 5 6 7 8 9\n",
              " [7201] 8 4 0 0 7 2 4 3 8 6 6 3 2 6 3 3 3 1 4 7 8 0 3 1 9 0 1 9 1 2 7 0 1 3 8 2\n",
              " [7237] 9 2 7 6 5 5 9 9 8 2 9 1 3 2 3 4 3 1 9 0 9 3 6 8 7 0 1 0 5 8 2 7 7 0 1 2\n",
              " [7273] 3 4 5 6 7 8 9 0 1 2 3 4 5 6 7 8 9 0 1 2 3 4 5 6 7 8 9 1 7 4 8 1 5 6 5 7\n",
              " [7309] 2 8 6 3 3 8 6 5 4 0 9 1 7 2 9 1 5 1 3 2 2 3 0 6 4 3 7 6 9 0 4 8 1 4 0 6\n",
              " [7345] 1 2 6 9 2 2 3 5 5 1 0 7 7 9 6 2 9 4 7 0 2 3 4 0 0 8 8 8 5 1 3 7 4 9 8 8\n",
              " [7381] 9 0 9 8 9 0 2 6 5 6 7 4 7 5 4 1 3 5 3 1 2 3 4 5 6 1 2 3 4 6 0 1 2 4 5 6\n",
              " [7417] 7 8 1 7 2 4 1 4 1 4 9 6 8 4 5 3 7 8 8 3 3 5 6 7 0 6 1 6 8 7 0 1 5 0 8 5\n",
              " [7453] 0 1 5 8 4 7 3 9 7 6 9 1 9 0 6 7 1 2 3 9 2 4 5 5 3 7 5 3 1 8 2 2 3 0 2 9\n",
              " [7489] 4 9 7 0 7 7 4 9 9 2 5 9 8 3 8 6 7 6 0 1 2 3 4 5 6 7 8 9 0 1 2 3 4 5 6 7\n",
              " [7525] 8 9 0 1 2 3 4 5 6 7 8 9 0 0 7 2 6 5 5 3 7 9 6 6 6 6 4 3 8 8 3 0 1 9 0 5\n",
              " [7561] 4 1 9 1 2 7 0 1 3 8 2 9 2 7 4 2 6 5 5 9 9 1 1 5 7 6 8 2 9 4 3 1 9 0 9 3\n",
              " [7597] 6 8 7 0 1 0 5 8 2 7 7 0 1 2 3 4 5 6 7 8 9 0 1 2 3 4 5 8 9 0 1 2 3 4 5 6\n",
              " [7633] 7 8 9 2 1 2 1 3 9 9 8 5 3 7 0 7 7 5 7 9 9 4 7 0 3 4 1 5 8 1 4 8 4 1 8 6\n",
              " [7669] 6 4 6 0 5 5 3 3 5 7 2 5 9 6 9 2 6 2 1 2 0 8 3 8 3 0 8 7 4 9 5 0 9 7 0 0\n",
              " [7705] 4 6 0 9 1 6 2 7 6 8 3 5 2 1 8 3 8 6 1 0 2 1 4 0 1 2 3 4 5 6 7 8 9 0 1 2\n",
              " [7741] 3 4 5 6 7 8 9 0 1 2 3 4 5 6 7 8 9 7 6 4 7 6 2 3 4 8 7 8 6 9 8 3 2 2 8 4\n",
              " [7777] 8 5 6 5 0 2 0 1 1 2 9 6 8 2 1 0 6 5 2 9 7 5 3 9 3 7 1 8 3 8 1 9 5 5 0 1\n",
              " [7813] 1 9 8 2 6 0 4 5 0 3 1 8 6 7 5 9 9 3 0 3 1 4 4 0 4 9 0 1 2 3 5 6 7 8 0 1\n",
              " [7849] 2 3 5 6 7 8 9 0 1 2 3 5 6 7 8 9 9 7 0 9 0 1 5 8 8 0 9 3 2 7 8 4 6 1 0 4\n",
              " [7885] 9 4 2 0 5 0 1 6 9 3 2 9 1 6 0 1 1 8 7 7 6 3 6 0 7 2 4 1 7 0 6 7 1 2 5 8\n",
              " [7921] 1 1 2 8 7 6 8 7 1 6 2 9 3 0 1 2 3 4 5 6 7 8 9 0 1 6 3 4 5 6 7 8 9 0 1 2\n",
              " [7957] 3 4 5 6 7 8 9 8 9 5 7 0 3 1 6 8 4 1 5 6 4 2 7 8 1 3 4 3 4 7 2 0 5 0 1 9\n",
              " [7993] 2 3 2 3 5 5 7 8 4 9 9 7 1 1 9 0 7 8 3 4 8 6 3 8 0 9 6 2 8 0 1 0 6 2 3 8\n",
              " [8029] 9 0 7 2 3 4 5 5 2 8 5 4 6 6 6 7 9 1 8 2 1 5 3 4 7 9 4 0 0 0 1 2 3 4 5 6\n",
              " [8065] 7 8 9 0 1 2 3 4 5 6 7 8 9 0 1 2 3 4 5 6 9 0 1 3 1 5 1 8 4 9 8 4 6 8 0 1\n",
              " [8101] 1 9 2 6 6 8 7 4 2 9 7 0 2 1 0 3 6 0 1 2 3 4 5 6 7 8 9 0 1 2 3 4 5 6 7 8\n",
              " [8137] 9 0 1 2 3 4 5 6 7 8 9 8 6 5 9 7 0 2 3 4 3 8 5 1 5 2 3 0 1 2 1 3 2 6 5 3\n",
              " [8173] 0 7 2 7 4 6 4 0 5 9 9 8 9 5 3 1 7 4 7 6 5 4 0 0 6 6 2 0 6 3 7 7 4 4 3 9\n",
              " [8209] 2 8 9 6 0 9 5 3 8 8 7 1 4 0 4 8 5 2 3 9 0 1 9 1 5 1 7 4 8 6 2 1 6 8 8 0\n",
              " [8245] 1 2 5 4 7 8 9 0 1 2 3 4 6 7 8 9 0 1 2 3 4 7 8 9 1 4 5 3 3 9 9 5 4 3 0 4\n",
              " [8281] 4 6 7 0 7 7 1 6 9 1 3 6 2 3 8 2 3 8 9 5 8 8 7 1 7 1 1 0 3 4 2 4 4 7 4 2\n",
              " [8317] 7 4 2 9 7 7 9 2 1 3 6 5 3 4 8 5 9 6 9 0 6 3 0 8 1 6 0 0 1 2 3 4 5 6 7 0\n",
              " [8353] 1 2 3 4 7 8 9 0 1 2 3 4 7 2 5 1 6 4 3 9 9 0 9 7 1 6 4 3 6 2 0 9 8 6 5 7\n",
              " [8389] 0 0 1 7 4 3 2 4 1 3 7 6 4 7 7 7 9 8 4 3 5 2 8 3 5 5 0 5 4 7 1 3 1 7 9 6\n",
              " [8425] 2 0 9 1 7 3 3 9 1 6 4 3 9 8 2 1 8 6 4 1 5 5 6 5 0 1 2 3 4 5 6 7 8 9 0 1\n",
              " [8461] 2 3 4 5 6 7 8 9 0 1 2 3 4 5 6 7 8 9 6 9 7 0 2 3 4 3 8 5 1 3 0 1 2 1 3 2\n",
              " [8497] 0 7 2 6 4 0 5 9 9 8 9 5 3 1 7 4 7 0 0 6 6 6 3 7 9 2 6 9 8 7 1 4 0 4 8 5\n",
              " [8533] 2 3 9 0 1 9 1 5 1 7 6 1 2 1 6 8 0 1 2 3 4 5 6 7 8 9 0 1 2 3 4 5 6 7 8 0\n",
              " [8569] 1 2 3 5 6 7 8 1 0 4 5 6 6 3 4 4 2 8 1 0 6 4 9 7 2 9 2 0 9 3 3 9 1 5 2 3\n",
              " [8605] 1 6 7 3 7 8 4 0 2 4 0 2 4 7 8 0 7 0 6 9 3 2 4 8 6 0 5 7 5 1 0 8 1 6 7 2\n",
              " [8641] 9 7 9 5 6 5 2 6 2 8 1 7 5 5 7 3 5 0 1 1 3 8 4 9 4 5 1 8 6 8 9 0 1 2 3 4\n",
              " [8677] 5 6 7 8 9 0 1 2 3 4 5 6 7 8 9 0 1 2 3 4 5 6 7 8 9 3 5 3 2 9 3 2 1 4 5 5\n",
              " [8713] 2 3 2 1 3 9 7 2 1 2 8 9 1 8 8 7 8 1 0 0 6 7 7 8 7 5 0 6 1 5 7 4 6 1 2 5\n",
              " [8749] 0 7 9 9 0 3 4 4 8 4 1 8 6 5 9 0 0 0 3 7 1 6 4 6 0 4 5 4 1 3 8 6 3 9 9 5\n",
              " [8785] 9 3 7 8 5 6 4 7 6 2 2 0 9 4 0 1 2 3 4 5 6 7 8 9 0 1 2 3 4 5 6 7 8 9 0 1\n",
              " [8821] 2 3 4 5 6 7 8 9 6 4 2 6 4 7 5 5 4 7 2 9 3 9 3 8 2 0 9 5 6 0 1 0 6 5 3 5\n",
              " [8857] 3 8 0 0 3 4 1 6 3 0 8 3 0 6 2 7 8 1 7 1 3 8 5 4 2 0 9 7 6 7 4 1 6 2 6 7\n",
              " [8893] 1 9 8 0 6 9 4 9 9 6 2 3 7 1 9 2 2 5 3 7 8 0 1 2 3 4 7 8 9 0 1 2 3 4 7 8\n",
              " [8929] 9 0 1 7 8 9 8 9 2 6 1 3 5 4 8 2 6 4 3 4 5 9 2 0 3 9 4 9 7 3 8 7 4 4 9 8\n",
              " [8965] 5 8 2 6 6 2 3 1 3 2 7 3 1 9 0 1 1 3 5 0 7 8 1 5 1 4 6 0 0 4 9 1 6 6 9 0\n",
              " [9001] 7 6 1 1 0 1 2 3 4 2 2 3 4 5 6 2 5 1 2 7 8 6 3 9 2 1 9 3 9 6 1 7 2 4 4 5\n",
              " [9037] 7 0 0 1 6 6 8 2 7 7 2 4 2 1 6 1 0 6 9 8 3 9 6 3 0 1 2 3 4 5 6 7 8 9 0 8\n",
              " [9073] 2 3 4 5 6 7 8 9 0 1 2 3 4 5 6 7 8 9 1 6 8 9 9 0 1 2 4 4 3 7 4 4 4 0 3 8\n",
              " [9109] 7 5 8 2 1 7 5 3 8 5 2 5 1 1 6 2 1 3 8 6 4 2 6 2 5 5 0 2 8 0 6 8 1 7 9 1\n",
              " [9145] 9 2 6 7 6 6 8 7 4 9 2 1 3 3 9 5 5 8 0 3 7 9 7 0 2 7 9 1 7 8 0 3 5 3 6 0\n",
              " [9181] 1 2 3 4 5 6 7 8 9 0 1 2 3 4 5 6 7 8 9 0 1 2 3 4 7 8 9 6 4 2 6 4 7 8 9 2\n",
              " [9217] 9 3 9 3 0 0 1 0 4 2 6 3 5 3 0 3 4 1 5 3 0 8 3 0 6 1 7 8 0 9 2 6 7 1 9 6\n",
              " [9253] 9 4 9 9 6 7 1 2 5 3 7 8 0 1 2 4 5 6 7 8 9 0 1 3 4 5 6 7 5 0 1 3 4 7 8 9\n",
              " [9289] 7 5 5 1 9 9 7 1 0 0 5 9 7 1 7 2 2 3 6 8 3 2 0 0 6 1 7 5 8 6 2 9 4 8 8 7\n",
              " [9325] 1 0 8 7 7 5 8 5 3 4 6 1 1 5 5 0 7 2 3 6 4 1 2 4 1 5 4 2 0 4 8 6 1 9 0 2\n",
              " [9361] 5 6 9 3 6 3 6 0 1 2 3 4 5 6 7 8 9 0 1 2 3 4 8 6 7 8 9 0 1 2 3 5 6 7 8 1\n",
              " [9397] 0 9 5 7 5 1 8 6 9 0 4 1 9 3 8 4 4 7 0 1 9 2 8 7 8 2 5 9 6 0 6 5 5 3 3 3\n",
              " [9433] 9 8 1 1 0 6 1 0 0 6 2 1 1 3 2 7 7 8 8 7 8 4 6 0 2 0 7 0 3 6 8 7 1 5 9 9\n",
              " [9469] 3 7 2 4 9 4 3 6 2 2 5 3 2 5 5 9 4 1 7 2 0 1 2 3 4 5 6 7 8 9 0 1 2 3 4 5\n",
              " [9505] 6 7 8 9 0 1 2 3 4 5 6 7 8 9 1 0 1 2 7 5 3 4 4 0 0 6 9 6 6 5 7 2 3 4 4 9\n",
              " [9541] 1 4 0 7 9 5 7 2 3 1 4 4 0 9 9 6 1 8 3 3 7 3 9 8 8 4 7 7 6 2 1 9 8 7 8 8\n",
              " [9577] 7 2 2 3 9 3 3 5 5 0 7 4 5 6 5 1 4 1 1 2 8 2 6 1 5 0 1 2 3 4 5 6 7 8 9 0\n",
              " [9613] 1 2 3 4 5 6 7 8 9 0 1 2 3 4 5 6 7 8 8 0 6 0 3 2 3 7 9 4 7 1 7 1 7 1 4 0\n",
              " [9649] 0 1 7 5 7 1 3 3 3 1 6 9 7 1 3 0 7 6 0 8 9 7 3 5 4 8 1 5 9 0 6 3 3 8 1 4\n",
              " [9685] 7 5 2 0 0 1 7 8 7 6 8 8 2 3 5 1 2 9 5 2 0 1 2 3 4 5 6 7 8 9 0 1 2 3 4 5\n",
              " [9721] 6 7 8 9 0 1 2 3 4 6 6 7 8 9 7 4 6 1 4 0 9 9 3 7 8 2 7 5 8 6 3 2 2 0 5 5\n",
              " [9757] 6 0 3 8 1 0 3 0 4 7 4 9 0 9 0 7 1 7 1 6 6 5 6 2 8 7 6 4 9 9 5 3 7 4 3 0\n",
              " [9793] 7 6 6 1 1 3 2 1 0 0 1 2 3 4 7 8 9 0 1 2 3 4 5 6 7 8 0 1 2 3 4 7 8 9 0 8\n",
              " [9829] 3 9 5 5 2 6 8 4 1 7 1 7 3 5 6 9 1 1 1 2 1 2 0 7 7 5 8 2 9 8 6 7 3 4 6 8\n",
              " [9865] 7 0 4 2 7 7 5 4 3 4 2 8 1 5 1 0 2 3 3 5 7 0 6 8 6 3 9 9 8 2 7 7 1 0 1 7\n",
              " [9901] 8 9 0 1 3 3 4 5 6 7 8 0 1 2 3 4 7 8 9 7 8 6 4 1 9 3 8 4 4 7 0 1 9 2 8 7\n",
              " [9937] 8 2 6 0 4 5 3 3 8 9 1 4 0 6 1 0 0 6 2 1 1 7 7 8 4 6 0 7 0 3 6 8 7 1 5 2\n",
              " [9973] 4 9 4 3 6 4 1 7 3 6 6 0 1 2 3 4 5 6 7 8 9 0 1 2 3 4 5 6"
            ]
          },
          "metadata": {}
        }
      ]
    },
    {
      "cell_type": "code",
      "metadata": {
        "id": "4YBE2uSJ2JDR",
        "colab": {
          "base_uri": "https://localhost:8080/",
          "height": 243
        },
        "outputId": "7b3b500a-23ed-4f9d-b69f-514615d4629b"
      },
      "source": [
        "#pred = model %>% predict(x_test_flat) %>% k_argmax()\n",
        "true_class2 = apply(y_test, 1, which.max) - 1\n",
        "table(true_class2, pred$numpy())\n",
        "mean(true_class2 == pred$numpy())"
      ],
      "execution_count": 20,
      "outputs": [
        {
          "output_type": "display_data",
          "data": {
            "text/plain": [
              "           \n",
              "true_class2    0    1    2    3    4    5    6    7    8    9\n",
              "          0  953    0    1    3    3    4    4    5    1    6\n",
              "          1    0 1124    2    1    0    0    3    0    5    0\n",
              "          2    3    2  995    7    2    0    5   11    7    0\n",
              "          3    0    0    0  997    0    2    0    6    3    2\n",
              "          4    0    0    2    1  951    1    4    4    1   18\n",
              "          5    1    0    0   17    1  860    6    1    4    2\n",
              "          6    4    3    4    1    6    5  931    1    3    0\n",
              "          7    0    8    5    7    0    0    0  999    0    9\n",
              "          8    4    2    1   14    4    5    2    4  934    4\n",
              "          9    0    4    0   10    7    4    0    6    0  978"
            ]
          },
          "metadata": {}
        },
        {
          "output_type": "display_data",
          "data": {
            "text/html": [
              "0.9722"
            ],
            "text/markdown": "0.9722",
            "text/latex": "0.9722",
            "text/plain": [
              "[1] 0.9722"
            ]
          },
          "metadata": {}
        }
      ]
    },
    {
      "cell_type": "code",
      "metadata": {
        "id": "4ujD76kdIgBl",
        "colab": {
          "base_uri": "https://localhost:8080/",
          "height": 34
        },
        "outputId": "c37a6582-58ae-4694-f33b-2d172e349d31"
      },
      "source": [
        "model$evaluate(x_test_flat, y_test) #Alternative version"
      ],
      "execution_count": 21,
      "outputs": [
        {
          "output_type": "display_data",
          "data": {
            "text/html": [
              "<style>\n",
              ".list-inline {list-style: none; margin:0; padding: 0}\n",
              ".list-inline>li {display: inline-block}\n",
              ".list-inline>li:not(:last-child)::after {content: \"\\00b7\"; padding: 0 .5ex}\n",
              "</style>\n",
              "<ol class=list-inline><li>0.0914407446980476</li><li>0.972199976444244</li></ol>\n"
            ],
            "text/markdown": "1. 0.0914407446980476\n2. 0.972199976444244\n\n\n",
            "text/latex": "\\begin{enumerate*}\n\\item 0.0914407446980476\n\\item 0.972199976444244\n\\end{enumerate*}\n",
            "text/plain": [
              "[1] 0.09144074 0.97219998"
            ]
          },
          "metadata": {}
        }
      ]
    },
    {
      "cell_type": "markdown",
      "metadata": {
        "id": "uwp2p5ToJ_eH"
      },
      "source": [
        "# Additional Task\n",
        "\n",
        "Play the deep learning game and stack more layers and change the activation function from sigmoid to relu\n",
        "\n",
        "\n",
        "<img src=\"https://raw.githubusercontent.com/tensorchiefs/dl_book/master/imgs/paper-pen.png\" width=\"60\" align=\"left\" />  \n",
        "*Exercise: Try to improve the fcNN by adding more hidden layers and/or changing the activation function from \"sigmoid\" to \"relu\". What do you observe? can you improve the performace on the testset?*"
      ]
    },
    {
      "cell_type": "code",
      "metadata": {
        "id": "p9GvU9ZkPzDW",
        "outputId": "658b45f6-a921-4037-9047-ca907d3819b6",
        "colab": {
          "base_uri": "https://localhost:8080/",
          "height": 729
        }
      },
      "source": [
        "sessionInfo()"
      ],
      "execution_count": 22,
      "outputs": [
        {
          "output_type": "display_data",
          "data": {
            "text/plain": [
              "R version 4.2.1 (2022-06-23)\n",
              "Platform: x86_64-pc-linux-gnu (64-bit)\n",
              "Running under: Ubuntu 18.04.6 LTS\n",
              "\n",
              "Matrix products: default\n",
              "BLAS:   /usr/lib/x86_64-linux-gnu/openblas/libblas.so.3\n",
              "LAPACK: /usr/lib/x86_64-linux-gnu/libopenblasp-r0.2.20.so\n",
              "\n",
              "locale:\n",
              " [1] LC_CTYPE=en_US.UTF-8       LC_NUMERIC=C              \n",
              " [3] LC_TIME=en_US.UTF-8        LC_COLLATE=en_US.UTF-8    \n",
              " [5] LC_MONETARY=en_US.UTF-8    LC_MESSAGES=en_US.UTF-8   \n",
              " [7] LC_PAPER=en_US.UTF-8       LC_NAME=C                 \n",
              " [9] LC_ADDRESS=C               LC_TELEPHONE=C            \n",
              "[11] LC_MEASUREMENT=en_US.UTF-8 LC_IDENTIFICATION=C       \n",
              "\n",
              "attached base packages:\n",
              "[1] stats     graphics  grDevices utils     datasets  methods   base     \n",
              "\n",
              "other attached packages:\n",
              "[1] reshape2_1.4.4   kableExtra_1.3.4 ggplot2_3.3.6    RCurl_1.98-1.8  \n",
              "[5] tensorflow_2.9.0 keras_2.9.0     \n",
              "\n",
              "loaded via a namespace (and not attached):\n",
              " [1] Rcpp_1.0.9        svglite_2.1.0     here_1.0.1        lattice_0.20-45  \n",
              " [5] png_0.1-7         assertthat_0.2.1  zeallot_0.1.0     rprojroot_2.0.3  \n",
              " [9] digest_0.6.29     utf8_1.2.2        IRdisplay_1.1     plyr_1.8.7       \n",
              "[13] R6_2.5.1          repr_1.1.4        evaluate_0.16     httr_1.4.4       \n",
              "[17] pillar_1.8.1      tfruns_1.5.1      rlang_1.0.4       uuid_1.1-0       \n",
              "[21] rstudioapi_0.14   whisker_0.4       Matrix_1.4-1      reticulate_1.26  \n",
              "[25] rmarkdown_2.16    labeling_0.4.2    webshot_0.5.3     stringr_1.4.1    \n",
              "[29] munsell_0.5.0     compiler_4.2.1    xfun_0.32         pkgconfig_2.0.3  \n",
              "[33] systemfonts_1.0.4 base64enc_0.1-3   htmltools_0.5.3   tidyselect_1.1.2 \n",
              "[37] tibble_3.1.7      fansi_1.0.3       viridisLite_0.4.1 crayon_1.5.1     \n",
              "[41] dplyr_1.0.9       withr_2.5.0       bitops_1.0-7      rappdirs_0.3.3   \n",
              "[45] grid_4.2.1        jsonlite_1.8.0    gtable_0.3.0      lifecycle_1.0.1  \n",
              "[49] DBI_1.1.3         magrittr_2.0.3    scales_1.2.1      cli_3.3.0        \n",
              "[53] stringi_1.7.8     farver_2.1.1      xml2_1.3.3        ellipsis_0.3.2   \n",
              "[57] generics_0.1.3    vctrs_0.4.1       IRkernel_1.3      tools_4.2.1      \n",
              "[61] glue_1.6.2        purrr_0.3.4       fastmap_1.1.0     colorspace_2.0-3 \n",
              "[65] rvest_1.0.3       pbdZMQ_0.3-7      knitr_1.40       "
            ]
          },
          "metadata": {}
        }
      ]
    }
  ]
}