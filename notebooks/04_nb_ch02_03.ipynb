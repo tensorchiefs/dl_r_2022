{
  "nbformat": 4,
  "nbformat_minor": 0,
  "metadata": {
    "colab": {
      "name": "04_nb_ch02_03.ipynb",
      "provenance": [],
      "collapsed_sections": []
    },
    "kernelspec": {
      "name": "ir",
      "display_name": "R"
    },
    "accelerator": "GPU"
  },
  "cells": [
    {
      "cell_type": "markdown",
      "metadata": {
        "id": "NizZ7atiCceE",
        "colab_type": "text"
      },
      "source": [
        "# A CNN classifying the cifar10 data with and without Dropout\n",
        "\n",
        "Many Thanks to Lars Bosshard and Michael Prummer who adpated large parts of the code from Python to R as part of a DL coaching with Beate.\n",
        "\n",
        "**Goal:**  The goal is to set up a CNN that is appropriate to predict for each image of the test set in Cifar10 data a multinomial probability distribution that assignes to each of the 10 possible classes a probability. You will train the CNN from scratch. You will investigate the impact of dropout during training. You will see that dropout during training is a very easy way to prevent overfitting and even to improve the accuracy!\n",
        "\n",
        "**Usage:** The idea of the notebook is that you try to understand the provided code by running it, checking the output and playing with it by slightly changing the code and rerunning it.  \n",
        "\n",
        "**Dataset:** In this notebook you work with the Cifar10 dataset. The data is from the Canadian Institute For Advanced Research.  You have 60'000 32x32 pixel color images of 10 classes (\"airplane\",\"automobile\",\"bird\",\"cat\",\"deer\",\"dog\",\"frog\",\"horse\",\"ship\",\"truck\"). The images (32x32x3) are quite small and therefore  it's not always very easy to recoginse which of the ten classes is on the iamge, even as a human. \n",
        "\n",
        "**Content:**\n",
        "* Load the Cifar10 dataset\n",
        "* Plot example images\n",
        "* Normalize the images\n",
        "* Define and fit a Convolutional neural network with dropout layers in the fully connected part\n",
        "Define and fit a Convolutional neural network without any dropout layers\n",
        "* Compare the test prediction performance (loss and accuracy of the two models)\n",
        "\n",
        "Original python version \n",
        "| [open in colab](https://colab.research.google.com/github/tensorchiefs/dl_book/blob/master/chapter_08/nb_ch08_02.ipynb)\n"
      ]
    },
    {
      "cell_type": "markdown",
      "metadata": {
        "id": "M1wzgBlEFPrq",
        "colab_type": "text"
      },
      "source": [
        "# Installing TensorFlow and Keras\n",
        "\n",
        "The deep learning packages, TensorFlow and Keras are not installed by default, but can be installed as follows:"
      ]
    },
    {
      "cell_type": "code",
      "metadata": {
        "id": "goTZsQAy_VbC",
        "colab_type": "code",
        "colab": {
          "base_uri": "https://localhost:8080/",
          "height": 335
        },
        "outputId": "2981e17b-5f64-49bc-a194-9b92d559db27"
      },
      "source": [
        "#Installing TF and Keras takes approx 2 minutes\n",
        "ptm <- proc.time()\n",
        "install.packages(\"tensorflow\")\n",
        "install.packages(\"keras\")\n",
        "install.packages(\"RCurl\")\n",
        "install.packages(\"kableExtra\")\n",
        "install.packages(\"reshape2\")\n",
        "proc.time() - ptm\n",
        "#devtools::install_github(\"rstudio/keras\") works ok but no tfp\n",
        "library(keras)\n",
        "library(tensorflow)\n",
        "tf$version$VERSION #2.3.0"
      ],
      "execution_count": 7,
      "outputs": [
        {
          "output_type": "stream",
          "text": [
            "Installing package into ‘/usr/local/lib/R/site-library’\n",
            "(as ‘lib’ is unspecified)\n",
            "\n",
            "Installing package into ‘/usr/local/lib/R/site-library’\n",
            "(as ‘lib’ is unspecified)\n",
            "\n",
            "Installing package into ‘/usr/local/lib/R/site-library’\n",
            "(as ‘lib’ is unspecified)\n",
            "\n",
            "Installing package into ‘/usr/local/lib/R/site-library’\n",
            "(as ‘lib’ is unspecified)\n",
            "\n",
            "Installing package into ‘/usr/local/lib/R/site-library’\n",
            "(as ‘lib’ is unspecified)\n",
            "\n"
          ],
          "name": "stderr"
        },
        {
          "output_type": "display_data",
          "data": {
            "text/plain": [
              "   user  system elapsed \n",
              " 30.578   4.828  36.477 "
            ]
          },
          "metadata": {
            "tags": []
          }
        },
        {
          "output_type": "display_data",
          "data": {
            "text/plain": [
              "[1] \"2.3.0\""
            ],
            "text/latex": "'2.3.0'",
            "text/markdown": "'2.3.0'",
            "text/html": [
              "'2.3.0'"
            ]
          },
          "metadata": {
            "tags": []
          }
        }
      ]
    },
    {
      "cell_type": "markdown",
      "metadata": {
        "id": "ZdfzJAx_iD4h",
        "colab_type": "text"
      },
      "source": [
        "# Imports\n",
        "\n",
        "In the next cell, we load all the required libraries and functions. "
      ]
    },
    {
      "cell_type": "code",
      "metadata": {
        "id": "cVYwcayKiJ85",
        "colab_type": "code",
        "colab": {
          "base_uri": "https://localhost:8080/",
          "height": 52
        },
        "outputId": "8cd8e29c-d82e-4013-ac37-5bae36c867bf"
      },
      "source": [
        "proc.time() - ptm\n",
        "#devtools::install_github(\"rstudio/keras\") works ok but no tfp\n",
        "library(keras)\n",
        "library(tensorflow)\n",
        "library(tidyverse)\n",
        "require(graphics)\n"
      ],
      "execution_count": 8,
      "outputs": [
        {
          "output_type": "display_data",
          "data": {
            "text/plain": [
              "   user  system elapsed \n",
              " 30.631   4.838  69.367 "
            ]
          },
          "metadata": {
            "tags": []
          }
        }
      ]
    },
    {
      "cell_type": "code",
      "metadata": {
        "id": "ocXFJYB5xgFL",
        "colab_type": "code",
        "colab": {}
      },
      "source": [
        ""
      ],
      "execution_count": null,
      "outputs": []
    },
    {
      "cell_type": "markdown",
      "metadata": {
        "id": "NKRf-y7qimn1",
        "colab_type": "text"
      },
      "source": [
        "# Load, plot and normalize the data\n",
        "\n",
        "The cifar10 data are shipped together with keras."
      ]
    },
    {
      "cell_type": "code",
      "metadata": {
        "id": "x316cOLwjMS_",
        "colab_type": "code",
        "colab": {}
      },
      "source": [
        "cifar10 <- dataset_cifar10()\n",
        "x_train <- cifar10$train$x\n",
        "y_train <- cifar10$train$y\n",
        "x_test <- cifar10$test$x\n",
        "y_test <- cifar10$test$y"
      ],
      "execution_count": 9,
      "outputs": []
    },
    {
      "cell_type": "markdown",
      "metadata": {
        "id": "dIAH71c7jX3C",
        "colab_type": "text"
      },
      "source": [
        "Let's have a look on some images.\n"
      ]
    },
    {
      "cell_type": "code",
      "metadata": {
        "id": "CpVM2qK_K2Tg",
        "colab_type": "code",
        "colab": {
          "base_uri": "https://localhost:8080/",
          "height": 436
        },
        "outputId": "7460abce-e871-4783-a61a-e1237f0402bb"
      },
      "source": [
        "dd <- expand.grid(1:32,1:32)\n",
        "colnames(dd) <- c(\"x\",\"y\")\n",
        "dd <- data.frame(x=rep(dd$x,5),y=rep(dd$y,5))\n",
        "dd$r <- NA\n",
        "dd$g <- NA\n",
        "dd$b <- NA\n",
        "dd$pic <- rep(1:5,each=32*32)\n",
        "idx <- 32:1\n",
        "idx2 <- c(\"r\",\"g\",\"b\")\n",
        "\n",
        "for (k in 1:5){\n",
        "  for (j in 1:3){\n",
        "    for (i in 1:32){\n",
        "      dd[dd$y==idx[i] & dd$pic==k,idx2[j]] <- x_train[k,i,,j]\n",
        "    }\n",
        "  }\n",
        "}\n",
        "\n",
        "# normalize the images to values between 0 and 1\n",
        "dd$r <- dd$r/255\n",
        "dd$g <- dd$g/255\n",
        "dd$b <- dd$b/255\n",
        "ggplot(data=dd, aes(x=x, y=y, fill=rgb(r,g,b))) +\n",
        "  geom_tile() +\n",
        "  scale_fill_identity() +\n",
        "  theme_bw()+\n",
        "  facet_wrap(~pic,ncol=5)"
      ],
      "execution_count": 10,
      "outputs": [
        {
          "output_type": "display_data",
          "data": {
            "image/png": "[encoded data removed]",
            "text/plain": [
              "plot without title"
            ]
          },
          "metadata": {
            "tags": [],
            "image/png": {
              "width": 420,
              "height": 420
            }
          }
        }
      ]
    },
    {
      "cell_type": "markdown",
      "metadata": {
        "id": "tEDRg3-bj8we",
        "colab_type": "text"
      },
      "source": [
        "Prepare the labels as one-hot-encoded.\n"
      ]
    },
    {
      "cell_type": "code",
      "metadata": {
        "id": "k0DmyAlHFRjc",
        "colab_type": "code",
        "colab": {
          "base_uri": "https://localhost:8080/",
          "height": 83
        },
        "outputId": "2c1891bb-fea1-42a0-fb3d-ca67be941f76"
      },
      "source": [
        "to_one_hot <- function(labels, dimension = 10) {\n",
        "  results <- matrix(0, nrow = length(labels), ncol = dimension)\n",
        "  for (i in 1:length(labels))\n",
        "    results[i, labels[[i]] + 1] <- 1\n",
        "  results\n",
        "}\n",
        "X_train <- x_train/255\n",
        "X_val <- x_test/255\n",
        "#X_test <- x_test/255\n",
        "\n",
        "Y_train <- to_one_hot(y_train)\n",
        "Y_val <- to_one_hot(y_test)\n",
        "\n",
        "dim(X_train)\n",
        "dim(X_val)\n",
        "dim(Y_train)\n",
        "dim(Y_val)\n"
      ],
      "execution_count": 11,
      "outputs": [
        {
          "output_type": "display_data",
          "data": {
            "text/plain": [
              "[1] 50000    32    32     3"
            ],
            "text/latex": "\\begin{enumerate*}\n\\item 50000\n\\item 32\n\\item 32\n\\item 3\n\\end{enumerate*}\n",
            "text/markdown": "1. 50000\n2. 32\n3. 32\n4. 3\n\n\n",
            "text/html": [
              "<style>\n",
              ".list-inline {list-style: none; margin:0; padding: 0}\n",
              ".list-inline>li {display: inline-block}\n",
              ".list-inline>li:not(:last-child)::after {content: \"\\00b7\"; padding: 0 .5ex}\n",
              "</style>\n",
              "<ol class=list-inline><li>50000</li><li>32</li><li>32</li><li>3</li></ol>\n"
            ]
          },
          "metadata": {
            "tags": []
          }
        },
        {
          "output_type": "display_data",
          "data": {
            "text/plain": [
              "[1] 10000    32    32     3"
            ],
            "text/latex": "\\begin{enumerate*}\n\\item 10000\n\\item 32\n\\item 32\n\\item 3\n\\end{enumerate*}\n",
            "text/markdown": "1. 10000\n2. 32\n3. 32\n4. 3\n\n\n",
            "text/html": [
              "<style>\n",
              ".list-inline {list-style: none; margin:0; padding: 0}\n",
              ".list-inline>li {display: inline-block}\n",
              ".list-inline>li:not(:last-child)::after {content: \"\\00b7\"; padding: 0 .5ex}\n",
              "</style>\n",
              "<ol class=list-inline><li>10000</li><li>32</li><li>32</li><li>3</li></ol>\n"
            ]
          },
          "metadata": {
            "tags": []
          }
        },
        {
          "output_type": "display_data",
          "data": {
            "text/plain": [
              "[1] 50000    10"
            ],
            "text/latex": "\\begin{enumerate*}\n\\item 50000\n\\item 10\n\\end{enumerate*}\n",
            "text/markdown": "1. 50000\n2. 10\n\n\n",
            "text/html": [
              "<style>\n",
              ".list-inline {list-style: none; margin:0; padding: 0}\n",
              ".list-inline>li {display: inline-block}\n",
              ".list-inline>li:not(:last-child)::after {content: \"\\00b7\"; padding: 0 .5ex}\n",
              "</style>\n",
              "<ol class=list-inline><li>50000</li><li>10</li></ol>\n"
            ]
          },
          "metadata": {
            "tags": []
          }
        },
        {
          "output_type": "display_data",
          "data": {
            "text/plain": [
              "[1] 10000    10"
            ],
            "text/latex": "\\begin{enumerate*}\n\\item 10000\n\\item 10\n\\end{enumerate*}\n",
            "text/markdown": "1. 10000\n2. 10\n\n\n",
            "text/html": [
              "<style>\n",
              ".list-inline {list-style: none; margin:0; padding: 0}\n",
              ".list-inline>li {display: inline-block}\n",
              ".list-inline>li:not(:last-child)::after {content: \"\\00b7\"; padding: 0 .5ex}\n",
              "</style>\n",
              "<ol class=list-inline><li>10000</li><li>10</li></ol>\n"
            ]
          },
          "metadata": {
            "tags": []
          }
        }
      ]
    },
    {
      "cell_type": "markdown",
      "metadata": {
        "id": "AcLbRfL-udZX",
        "colab_type": "text"
      },
      "source": [
        ""
      ]
    },
    {
      "cell_type": "markdown",
      "metadata": {
        "id": "82j-ZOxNGy-b",
        "colab_type": "text"
      },
      "source": [
        "# Define and fit a CNN with dropout layers\n",
        "\n",
        "In the next few cells you will define and train a CNN to classify the images into the 10 classes.\n",
        "\n",
        "\n"
      ]
    },
    {
      "cell_type": "code",
      "metadata": {
        "id": "YTbY6q0vtWfD",
        "colab_type": "code",
        "colab": {
          "base_uri": "https://localhost:8080/",
          "height": 585
        },
        "outputId": "a9213e93-f4dd-4bc1-c6a2-8a3ed28a331c"
      },
      "source": [
        "batch_size = 128\n",
        "nb_classes = 10\n",
        "img_rows = 32\n",
        "img_cols = 32\n",
        "kernel_size = c(3, 3)\n",
        "input_shape = c(img_rows, img_cols, 3)\n",
        "pool_size = c(2, 2)\n",
        "\n",
        "model <- keras_model_sequential() %>% \n",
        "  # convolutional part of the CNN\n",
        "  layer_conv_2d(filters = 16, kernel_size = kernel_size, padding = \"same\",\n",
        "                activation = \"relu\",input_shape = input_shape) %>% \n",
        "  layer_conv_2d(filters = 16, kernel_size = kernel_size, padding = \"same\",\n",
        "                activation = \"relu\") %>% \n",
        "  layer_max_pooling_2d(pool_size = pool_size) %>%\n",
        "\n",
        "  layer_conv_2d(filters = 32, kernel_size = kernel_size, padding = \"same\",\n",
        "                activation = \"relu\") %>% \n",
        "  layer_conv_2d(filters = 32, kernel_size = kernel_size, padding = \"same\",\n",
        "                activation = \"relu\") %>% \n",
        "  layer_max_pooling_2d(pool_size = pool_size) %>%\n",
        "  \n",
        "  layer_flatten() %>% \n",
        "\n",
        "  #fully connected part of the CNN\n",
        "  layer_dense(units = 100, activation = \"relu\") %>% \n",
        "  layer_dropout(rate = 0.5) %>%\n",
        "  layer_dense(units = 100, activation = \"relu\") %>% \n",
        "  layer_dropout(rate = 0.5) %>%\n",
        "  layer_dense(units = nb_classes, activation = \"softmax\")\n",
        "\n",
        "summary(model)"
      ],
      "execution_count": 12,
      "outputs": [
        {
          "output_type": "stream",
          "text": [
            "Model: \"sequential\"\n",
            "________________________________________________________________________________\n",
            "Layer (type)                        Output Shape                    Param #     \n",
            "================================================================================\n",
            "conv2d (Conv2D)                     (None, 32, 32, 16)              448         \n",
            "________________________________________________________________________________\n",
            "conv2d_1 (Conv2D)                   (None, 32, 32, 16)              2320        \n",
            "________________________________________________________________________________\n",
            "max_pooling2d (MaxPooling2D)        (None, 16, 16, 16)              0           \n",
            "________________________________________________________________________________\n",
            "conv2d_2 (Conv2D)                   (None, 16, 16, 32)              4640        \n",
            "________________________________________________________________________________\n",
            "conv2d_3 (Conv2D)                   (None, 16, 16, 32)              9248        \n",
            "________________________________________________________________________________\n",
            "max_pooling2d_1 (MaxPooling2D)      (None, 8, 8, 32)                0           \n",
            "________________________________________________________________________________\n",
            "flatten (Flatten)                   (None, 2048)                    0           \n",
            "________________________________________________________________________________\n",
            "dense (Dense)                       (None, 100)                     204900      \n",
            "________________________________________________________________________________\n",
            "dropout (Dropout)                   (None, 100)                     0           \n",
            "________________________________________________________________________________\n",
            "dense_1 (Dense)                     (None, 100)                     10100       \n",
            "________________________________________________________________________________\n",
            "dropout_1 (Dropout)                 (None, 100)                     0           \n",
            "________________________________________________________________________________\n",
            "dense_2 (Dense)                     (None, 10)                      1010        \n",
            "================================================================================\n",
            "Total params: 232,666\n",
            "Trainable params: 232,666\n",
            "Non-trainable params: 0\n",
            "________________________________________________________________________________\n"
          ],
          "name": "stdout"
        }
      ]
    },
    {
      "cell_type": "code",
      "metadata": {
        "id": "Z54AdqOozKOR",
        "colab_type": "code",
        "colab": {}
      },
      "source": [
        "# compile model and intitialize weights\n",
        "model %>% compile(\n",
        "  optimizer = \"adam\",\n",
        "  loss = \"categorical_crossentropy\",\n",
        "  metrics = c(\"accuracy\")\n",
        ")"
      ],
      "execution_count": 13,
      "outputs": []
    },
    {
      "cell_type": "markdown",
      "metadata": {
        "id": "GZOkKDFVGPRC",
        "colab_type": "text"
      },
      "source": [
        "## Training of the model"
      ]
    },
    {
      "cell_type": "code",
      "metadata": {
        "id": "_SZo_ZIYH7IO",
        "colab_type": "code",
        "colab": {
          "base_uri": "https://localhost:8080/",
          "height": 472
        },
        "outputId": "af484294-648d-40c7-e772-fce16d9ffbe8"
      },
      "source": [
        "# train the model (can take 2-3 minuntes)\n",
        "history <- model %>% fit(\n",
        "  X_train, Y_train, \n",
        "  epochs = 30, batch_size=batch_size,\n",
        "  verbose=0, validation_data = list(X_val, Y_val))\n",
        "plot(history)\n"
      ],
      "execution_count": 14,
      "outputs": [
        {
          "output_type": "stream",
          "text": [
            "`geom_smooth()` using formula 'y ~ x'\n",
            "\n"
          ],
          "name": "stderr"
        },
        {
          "output_type": "display_data",
          "data": {
            "image/png": "[encoded data removed]",
            "text/plain": [
              "plot without title"
            ]
          },
          "metadata": {
            "tags": [],
            "image/png": {
              "width": 420,
              "height": 420
            }
          }
        }
      ]
    },
    {
      "cell_type": "code",
      "metadata": {
        "id": "h-Pl-JrZIB4H",
        "colab_type": "code",
        "colab": {
          "base_uri": "https://localhost:8080/",
          "height": 33
        },
        "outputId": "d0cf25ec-7669-4a53-f1fa-df05c829bf80"
      },
      "source": [
        "results <- model %>% evaluate(X_val, Y_val, verbose=0)\n",
        "results"
      ],
      "execution_count": 15,
      "outputs": [
        {
          "output_type": "display_data",
          "data": {
            "text/plain": [
              "     loss  accuracy \n",
              "0.8637131 0.7216000 "
            ],
            "text/latex": "\\begin{description*}\n\\item[loss] 0.863713085651398\n\\item[accuracy] 0.721599996089935\n\\end{description*}\n",
            "text/markdown": "loss\n:   0.863713085651398accuracy\n:   0.721599996089935\n\n",
            "text/html": [
              "<style>\n",
              ".dl-inline {width: auto; margin:0; padding: 0}\n",
              ".dl-inline>dt, .dl-inline>dd {float: none; width: auto; display: inline-block}\n",
              ".dl-inline>dt::after {content: \":\\0020\"; padding-right: .5ex}\n",
              ".dl-inline>dt:not(:first-of-type) {padding-left: .5ex}\n",
              "</style><dl class=dl-inline><dt>loss</dt><dd>0.863713085651398</dd><dt>accuracy</dt><dd>0.721599996089935</dd></dl>\n"
            ]
          },
          "metadata": {
            "tags": []
          }
        }
      ]
    },
    {
      "cell_type": "markdown",
      "metadata": {
        "id": "uwp2p5ToJ_eH",
        "colab_type": "text"
      },
      "source": [
        "# Additional Task\n",
        "\n",
        "Repeat the training and exerpiment without the dropout layer.\n",
        "\n",
        "<img src=\"https://raw.githubusercontent.com/tensorchiefs/dl_book/master/imgs/paper-pen.png\" width=\"60\" align=\"left\" />  \n",
        "*...*"
      ]
    },
    {
      "cell_type": "code",
      "metadata": {
        "id": "p9GvU9ZkPzDW",
        "colab_type": "code",
        "colab": {}
      },
      "source": [
        "sessionInfo()"
      ],
      "execution_count": null,
      "outputs": []
    },
    {
      "cell_type": "code",
      "metadata": {
        "id": "8b5SlMal1yrd",
        "colab_type": "code",
        "colab": {}
      },
      "source": [
        ""
      ],
      "execution_count": null,
      "outputs": []
    }
  ]
}